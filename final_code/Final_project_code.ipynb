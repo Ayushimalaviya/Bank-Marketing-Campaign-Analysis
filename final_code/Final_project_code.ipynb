{
  "cells": [
    {
      "cell_type": "code",
      "execution_count": 643,
      "id": "c7191a0c",
      "metadata": {
        "id": "c7191a0c"
      },
      "outputs": [],
      "source": [
        "import pandas as pd\n",
        "import numpy as np\n",
        "import matplotlib.pyplot as plt\n",
        "from sklearn.model_selection import train_test_split, cross_validate\n",
        "import seaborn as sns\n",
        "from sklearn.metrics import recall_score, precision_score"
      ]
    },
    {
      "cell_type": "code",
      "execution_count": 644,
      "id": "ccbe9d45",
      "metadata": {
        "id": "ccbe9d45"
      },
      "outputs": [],
      "source": [
        "df = pd.read_csv('/content/sample_data/bank-additional-full.csv', delimiter=';', na_values='?')"
      ]
    },
    {
      "cell_type": "markdown",
      "source": [
        "# Exploratory Data Analysis"
      ],
      "metadata": {
        "id": "VXgGLcy6yB46"
      },
      "id": "VXgGLcy6yB46"
    },
    {
      "cell_type": "code",
      "execution_count": 645,
      "id": "664845b9",
      "metadata": {
        "colab": {
          "base_uri": "https://localhost:8080/",
          "height": 256
        },
        "id": "664845b9",
        "outputId": "8b9c9d67-338e-4623-fd6a-f8f654db8e36"
      },
      "outputs": [
        {
          "output_type": "execute_result",
          "data": {
            "text/plain": [
              "   age        job  marital    education  default housing loan    contact  \\\n",
              "0   56  housemaid  married     basic.4y       no      no   no  telephone   \n",
              "1   57   services  married  high.school  unknown      no   no  telephone   \n",
              "2   37   services  married  high.school       no     yes   no  telephone   \n",
              "3   40     admin.  married     basic.6y       no      no   no  telephone   \n",
              "4   56   services  married  high.school       no      no  yes  telephone   \n",
              "\n",
              "  month day_of_week  ...  campaign  pdays  previous     poutcome emp.var.rate  \\\n",
              "0   may         mon  ...         1    999         0  nonexistent          1.1   \n",
              "1   may         mon  ...         1    999         0  nonexistent          1.1   \n",
              "2   may         mon  ...         1    999         0  nonexistent          1.1   \n",
              "3   may         mon  ...         1    999         0  nonexistent          1.1   \n",
              "4   may         mon  ...         1    999         0  nonexistent          1.1   \n",
              "\n",
              "   cons.price.idx  cons.conf.idx  euribor3m  nr.employed   y  \n",
              "0          93.994          -36.4      4.857       5191.0  no  \n",
              "1          93.994          -36.4      4.857       5191.0  no  \n",
              "2          93.994          -36.4      4.857       5191.0  no  \n",
              "3          93.994          -36.4      4.857       5191.0  no  \n",
              "4          93.994          -36.4      4.857       5191.0  no  \n",
              "\n",
              "[5 rows x 21 columns]"
            ],
            "text/html": [
              "\n",
              "  <div id=\"df-7b269c92-a719-4115-90ef-40fe0e416413\" class=\"colab-df-container\">\n",
              "    <div>\n",
              "<style scoped>\n",
              "    .dataframe tbody tr th:only-of-type {\n",
              "        vertical-align: middle;\n",
              "    }\n",
              "\n",
              "    .dataframe tbody tr th {\n",
              "        vertical-align: top;\n",
              "    }\n",
              "\n",
              "    .dataframe thead th {\n",
              "        text-align: right;\n",
              "    }\n",
              "</style>\n",
              "<table border=\"1\" class=\"dataframe\">\n",
              "  <thead>\n",
              "    <tr style=\"text-align: right;\">\n",
              "      <th></th>\n",
              "      <th>age</th>\n",
              "      <th>job</th>\n",
              "      <th>marital</th>\n",
              "      <th>education</th>\n",
              "      <th>default</th>\n",
              "      <th>housing</th>\n",
              "      <th>loan</th>\n",
              "      <th>contact</th>\n",
              "      <th>month</th>\n",
              "      <th>day_of_week</th>\n",
              "      <th>...</th>\n",
              "      <th>campaign</th>\n",
              "      <th>pdays</th>\n",
              "      <th>previous</th>\n",
              "      <th>poutcome</th>\n",
              "      <th>emp.var.rate</th>\n",
              "      <th>cons.price.idx</th>\n",
              "      <th>cons.conf.idx</th>\n",
              "      <th>euribor3m</th>\n",
              "      <th>nr.employed</th>\n",
              "      <th>y</th>\n",
              "    </tr>\n",
              "  </thead>\n",
              "  <tbody>\n",
              "    <tr>\n",
              "      <th>0</th>\n",
              "      <td>56</td>\n",
              "      <td>housemaid</td>\n",
              "      <td>married</td>\n",
              "      <td>basic.4y</td>\n",
              "      <td>no</td>\n",
              "      <td>no</td>\n",
              "      <td>no</td>\n",
              "      <td>telephone</td>\n",
              "      <td>may</td>\n",
              "      <td>mon</td>\n",
              "      <td>...</td>\n",
              "      <td>1</td>\n",
              "      <td>999</td>\n",
              "      <td>0</td>\n",
              "      <td>nonexistent</td>\n",
              "      <td>1.1</td>\n",
              "      <td>93.994</td>\n",
              "      <td>-36.4</td>\n",
              "      <td>4.857</td>\n",
              "      <td>5191.0</td>\n",
              "      <td>no</td>\n",
              "    </tr>\n",
              "    <tr>\n",
              "      <th>1</th>\n",
              "      <td>57</td>\n",
              "      <td>services</td>\n",
              "      <td>married</td>\n",
              "      <td>high.school</td>\n",
              "      <td>unknown</td>\n",
              "      <td>no</td>\n",
              "      <td>no</td>\n",
              "      <td>telephone</td>\n",
              "      <td>may</td>\n",
              "      <td>mon</td>\n",
              "      <td>...</td>\n",
              "      <td>1</td>\n",
              "      <td>999</td>\n",
              "      <td>0</td>\n",
              "      <td>nonexistent</td>\n",
              "      <td>1.1</td>\n",
              "      <td>93.994</td>\n",
              "      <td>-36.4</td>\n",
              "      <td>4.857</td>\n",
              "      <td>5191.0</td>\n",
              "      <td>no</td>\n",
              "    </tr>\n",
              "    <tr>\n",
              "      <th>2</th>\n",
              "      <td>37</td>\n",
              "      <td>services</td>\n",
              "      <td>married</td>\n",
              "      <td>high.school</td>\n",
              "      <td>no</td>\n",
              "      <td>yes</td>\n",
              "      <td>no</td>\n",
              "      <td>telephone</td>\n",
              "      <td>may</td>\n",
              "      <td>mon</td>\n",
              "      <td>...</td>\n",
              "      <td>1</td>\n",
              "      <td>999</td>\n",
              "      <td>0</td>\n",
              "      <td>nonexistent</td>\n",
              "      <td>1.1</td>\n",
              "      <td>93.994</td>\n",
              "      <td>-36.4</td>\n",
              "      <td>4.857</td>\n",
              "      <td>5191.0</td>\n",
              "      <td>no</td>\n",
              "    </tr>\n",
              "    <tr>\n",
              "      <th>3</th>\n",
              "      <td>40</td>\n",
              "      <td>admin.</td>\n",
              "      <td>married</td>\n",
              "      <td>basic.6y</td>\n",
              "      <td>no</td>\n",
              "      <td>no</td>\n",
              "      <td>no</td>\n",
              "      <td>telephone</td>\n",
              "      <td>may</td>\n",
              "      <td>mon</td>\n",
              "      <td>...</td>\n",
              "      <td>1</td>\n",
              "      <td>999</td>\n",
              "      <td>0</td>\n",
              "      <td>nonexistent</td>\n",
              "      <td>1.1</td>\n",
              "      <td>93.994</td>\n",
              "      <td>-36.4</td>\n",
              "      <td>4.857</td>\n",
              "      <td>5191.0</td>\n",
              "      <td>no</td>\n",
              "    </tr>\n",
              "    <tr>\n",
              "      <th>4</th>\n",
              "      <td>56</td>\n",
              "      <td>services</td>\n",
              "      <td>married</td>\n",
              "      <td>high.school</td>\n",
              "      <td>no</td>\n",
              "      <td>no</td>\n",
              "      <td>yes</td>\n",
              "      <td>telephone</td>\n",
              "      <td>may</td>\n",
              "      <td>mon</td>\n",
              "      <td>...</td>\n",
              "      <td>1</td>\n",
              "      <td>999</td>\n",
              "      <td>0</td>\n",
              "      <td>nonexistent</td>\n",
              "      <td>1.1</td>\n",
              "      <td>93.994</td>\n",
              "      <td>-36.4</td>\n",
              "      <td>4.857</td>\n",
              "      <td>5191.0</td>\n",
              "      <td>no</td>\n",
              "    </tr>\n",
              "  </tbody>\n",
              "</table>\n",
              "<p>5 rows × 21 columns</p>\n",
              "</div>\n",
              "    <div class=\"colab-df-buttons\">\n",
              "\n",
              "  <div class=\"colab-df-container\">\n",
              "    <button class=\"colab-df-convert\" onclick=\"convertToInteractive('df-7b269c92-a719-4115-90ef-40fe0e416413')\"\n",
              "            title=\"Convert this dataframe to an interactive table.\"\n",
              "            style=\"display:none;\">\n",
              "\n",
              "  <svg xmlns=\"http://www.w3.org/2000/svg\" height=\"24px\" viewBox=\"0 -960 960 960\">\n",
              "    <path d=\"M120-120v-720h720v720H120Zm60-500h600v-160H180v160Zm220 220h160v-160H400v160Zm0 220h160v-160H400v160ZM180-400h160v-160H180v160Zm440 0h160v-160H620v160ZM180-180h160v-160H180v160Zm440 0h160v-160H620v160Z\"/>\n",
              "  </svg>\n",
              "    </button>\n",
              "\n",
              "  <style>\n",
              "    .colab-df-container {\n",
              "      display:flex;\n",
              "      gap: 12px;\n",
              "    }\n",
              "\n",
              "    .colab-df-convert {\n",
              "      background-color: #E8F0FE;\n",
              "      border: none;\n",
              "      border-radius: 50%;\n",
              "      cursor: pointer;\n",
              "      display: none;\n",
              "      fill: #1967D2;\n",
              "      height: 32px;\n",
              "      padding: 0 0 0 0;\n",
              "      width: 32px;\n",
              "    }\n",
              "\n",
              "    .colab-df-convert:hover {\n",
              "      background-color: #E2EBFA;\n",
              "      box-shadow: 0px 1px 2px rgba(60, 64, 67, 0.3), 0px 1px 3px 1px rgba(60, 64, 67, 0.15);\n",
              "      fill: #174EA6;\n",
              "    }\n",
              "\n",
              "    .colab-df-buttons div {\n",
              "      margin-bottom: 4px;\n",
              "    }\n",
              "\n",
              "    [theme=dark] .colab-df-convert {\n",
              "      background-color: #3B4455;\n",
              "      fill: #D2E3FC;\n",
              "    }\n",
              "\n",
              "    [theme=dark] .colab-df-convert:hover {\n",
              "      background-color: #434B5C;\n",
              "      box-shadow: 0px 1px 3px 1px rgba(0, 0, 0, 0.15);\n",
              "      filter: drop-shadow(0px 1px 2px rgba(0, 0, 0, 0.3));\n",
              "      fill: #FFFFFF;\n",
              "    }\n",
              "  </style>\n",
              "\n",
              "    <script>\n",
              "      const buttonEl =\n",
              "        document.querySelector('#df-7b269c92-a719-4115-90ef-40fe0e416413 button.colab-df-convert');\n",
              "      buttonEl.style.display =\n",
              "        google.colab.kernel.accessAllowed ? 'block' : 'none';\n",
              "\n",
              "      async function convertToInteractive(key) {\n",
              "        const element = document.querySelector('#df-7b269c92-a719-4115-90ef-40fe0e416413');\n",
              "        const dataTable =\n",
              "          await google.colab.kernel.invokeFunction('convertToInteractive',\n",
              "                                                    [key], {});\n",
              "        if (!dataTable) return;\n",
              "\n",
              "        const docLinkHtml = 'Like what you see? Visit the ' +\n",
              "          '<a target=\"_blank\" href=https://colab.research.google.com/notebooks/data_table.ipynb>data table notebook</a>'\n",
              "          + ' to learn more about interactive tables.';\n",
              "        element.innerHTML = '';\n",
              "        dataTable['output_type'] = 'display_data';\n",
              "        await google.colab.output.renderOutput(dataTable, element);\n",
              "        const docLink = document.createElement('div');\n",
              "        docLink.innerHTML = docLinkHtml;\n",
              "        element.appendChild(docLink);\n",
              "      }\n",
              "    </script>\n",
              "  </div>\n",
              "\n",
              "\n",
              "<div id=\"df-4a17eb37-65dd-4596-a5c1-69b27f5ef4e1\">\n",
              "  <button class=\"colab-df-quickchart\" onclick=\"quickchart('df-4a17eb37-65dd-4596-a5c1-69b27f5ef4e1')\"\n",
              "            title=\"Suggest charts.\"\n",
              "            style=\"display:none;\">\n",
              "\n",
              "<svg xmlns=\"http://www.w3.org/2000/svg\" height=\"24px\"viewBox=\"0 0 24 24\"\n",
              "     width=\"24px\">\n",
              "    <g>\n",
              "        <path d=\"M19 3H5c-1.1 0-2 .9-2 2v14c0 1.1.9 2 2 2h14c1.1 0 2-.9 2-2V5c0-1.1-.9-2-2-2zM9 17H7v-7h2v7zm4 0h-2V7h2v10zm4 0h-2v-4h2v4z\"/>\n",
              "    </g>\n",
              "</svg>\n",
              "  </button>\n",
              "\n",
              "<style>\n",
              "  .colab-df-quickchart {\n",
              "      --bg-color: #E8F0FE;\n",
              "      --fill-color: #1967D2;\n",
              "      --hover-bg-color: #E2EBFA;\n",
              "      --hover-fill-color: #174EA6;\n",
              "      --disabled-fill-color: #AAA;\n",
              "      --disabled-bg-color: #DDD;\n",
              "  }\n",
              "\n",
              "  [theme=dark] .colab-df-quickchart {\n",
              "      --bg-color: #3B4455;\n",
              "      --fill-color: #D2E3FC;\n",
              "      --hover-bg-color: #434B5C;\n",
              "      --hover-fill-color: #FFFFFF;\n",
              "      --disabled-bg-color: #3B4455;\n",
              "      --disabled-fill-color: #666;\n",
              "  }\n",
              "\n",
              "  .colab-df-quickchart {\n",
              "    background-color: var(--bg-color);\n",
              "    border: none;\n",
              "    border-radius: 50%;\n",
              "    cursor: pointer;\n",
              "    display: none;\n",
              "    fill: var(--fill-color);\n",
              "    height: 32px;\n",
              "    padding: 0;\n",
              "    width: 32px;\n",
              "  }\n",
              "\n",
              "  .colab-df-quickchart:hover {\n",
              "    background-color: var(--hover-bg-color);\n",
              "    box-shadow: 0 1px 2px rgba(60, 64, 67, 0.3), 0 1px 3px 1px rgba(60, 64, 67, 0.15);\n",
              "    fill: var(--button-hover-fill-color);\n",
              "  }\n",
              "\n",
              "  .colab-df-quickchart-complete:disabled,\n",
              "  .colab-df-quickchart-complete:disabled:hover {\n",
              "    background-color: var(--disabled-bg-color);\n",
              "    fill: var(--disabled-fill-color);\n",
              "    box-shadow: none;\n",
              "  }\n",
              "\n",
              "  .colab-df-spinner {\n",
              "    border: 2px solid var(--fill-color);\n",
              "    border-color: transparent;\n",
              "    border-bottom-color: var(--fill-color);\n",
              "    animation:\n",
              "      spin 1s steps(1) infinite;\n",
              "  }\n",
              "\n",
              "  @keyframes spin {\n",
              "    0% {\n",
              "      border-color: transparent;\n",
              "      border-bottom-color: var(--fill-color);\n",
              "      border-left-color: var(--fill-color);\n",
              "    }\n",
              "    20% {\n",
              "      border-color: transparent;\n",
              "      border-left-color: var(--fill-color);\n",
              "      border-top-color: var(--fill-color);\n",
              "    }\n",
              "    30% {\n",
              "      border-color: transparent;\n",
              "      border-left-color: var(--fill-color);\n",
              "      border-top-color: var(--fill-color);\n",
              "      border-right-color: var(--fill-color);\n",
              "    }\n",
              "    40% {\n",
              "      border-color: transparent;\n",
              "      border-right-color: var(--fill-color);\n",
              "      border-top-color: var(--fill-color);\n",
              "    }\n",
              "    60% {\n",
              "      border-color: transparent;\n",
              "      border-right-color: var(--fill-color);\n",
              "    }\n",
              "    80% {\n",
              "      border-color: transparent;\n",
              "      border-right-color: var(--fill-color);\n",
              "      border-bottom-color: var(--fill-color);\n",
              "    }\n",
              "    90% {\n",
              "      border-color: transparent;\n",
              "      border-bottom-color: var(--fill-color);\n",
              "    }\n",
              "  }\n",
              "</style>\n",
              "\n",
              "  <script>\n",
              "    async function quickchart(key) {\n",
              "      const quickchartButtonEl =\n",
              "        document.querySelector('#' + key + ' button');\n",
              "      quickchartButtonEl.disabled = true;  // To prevent multiple clicks.\n",
              "      quickchartButtonEl.classList.add('colab-df-spinner');\n",
              "      try {\n",
              "        const charts = await google.colab.kernel.invokeFunction(\n",
              "            'suggestCharts', [key], {});\n",
              "      } catch (error) {\n",
              "        console.error('Error during call to suggestCharts:', error);\n",
              "      }\n",
              "      quickchartButtonEl.classList.remove('colab-df-spinner');\n",
              "      quickchartButtonEl.classList.add('colab-df-quickchart-complete');\n",
              "    }\n",
              "    (() => {\n",
              "      let quickchartButtonEl =\n",
              "        document.querySelector('#df-4a17eb37-65dd-4596-a5c1-69b27f5ef4e1 button');\n",
              "      quickchartButtonEl.style.display =\n",
              "        google.colab.kernel.accessAllowed ? 'block' : 'none';\n",
              "    })();\n",
              "  </script>\n",
              "</div>\n",
              "    </div>\n",
              "  </div>\n"
            ]
          },
          "metadata": {},
          "execution_count": 645
        }
      ],
      "source": [
        "df.head()"
      ]
    },
    {
      "cell_type": "code",
      "execution_count": 646,
      "id": "ea591626",
      "metadata": {
        "colab": {
          "base_uri": "https://localhost:8080/"
        },
        "id": "ea591626",
        "outputId": "c2dd9b4c-5385-4637-d028-53f35202f668"
      },
      "outputs": [
        {
          "output_type": "stream",
          "name": "stdout",
          "text": [
            "(41188, 21)\n",
            "age               0\n",
            "job               0\n",
            "marital           0\n",
            "education         0\n",
            "default           0\n",
            "housing           0\n",
            "loan              0\n",
            "contact           0\n",
            "month             0\n",
            "day_of_week       0\n",
            "duration          0\n",
            "campaign          0\n",
            "pdays             0\n",
            "previous          0\n",
            "poutcome          0\n",
            "emp.var.rate      0\n",
            "cons.price.idx    0\n",
            "cons.conf.idx     0\n",
            "euribor3m         0\n",
            "nr.employed       0\n",
            "y                 0\n",
            "dtype: int64\n"
          ]
        }
      ],
      "source": [
        "print(df.shape)\n",
        "print(df.isnull().sum())"
      ]
    },
    {
      "cell_type": "code",
      "execution_count": 647,
      "id": "2740077b",
      "metadata": {
        "id": "2740077b"
      },
      "outputs": [],
      "source": [
        "df = df.rename(columns={'default': 'creditDefault', 'housing': 'houseLoan', 'loan':'personalLoan', 'contact': 'contactType',\n",
        "                       'month': 'contactMonth', 'day': 'contactDay', 'duraction':'contactDuration', 'emp.var.rate':'emp_var_rate',\n",
        "                        'cons.conf.idx':'con_confi_idx','cons.price.idx':'cons_price_idx','nr.employed':'noOfEmployee','y':'target'})"
      ]
    },
    {
      "cell_type": "code",
      "source": [
        "cat_columns = df.select_dtypes(include=object).columns\n",
        "num_columns = df.select_dtypes(exclude=object).columns\n",
        "print(f'Total number of categorical features: {len(cat_columns)} \\n')\n",
        "print(f'Total number of categorical features: {len(num_columns)} \\n')"
      ],
      "metadata": {
        "colab": {
          "base_uri": "https://localhost:8080/"
        },
        "id": "FjW-oV0fye1S",
        "outputId": "7c7feb6a-dd89-4ab1-d00b-7a99fb162156"
      },
      "id": "FjW-oV0fye1S",
      "execution_count": 648,
      "outputs": [
        {
          "output_type": "stream",
          "name": "stdout",
          "text": [
            "Total number of categorical features: 11 \n",
            "\n",
            "Total number of categorical features: 10 \n",
            "\n"
          ]
        }
      ]
    },
    {
      "cell_type": "markdown",
      "source": [
        "**Lets Get Unique value and its count for each Categorical Features.**"
      ],
      "metadata": {
        "id": "eAZlP7IN0UN9"
      },
      "id": "eAZlP7IN0UN9"
    },
    {
      "cell_type": "code",
      "source": [
        "for column in cat_columns:\n",
        "    print(column)\n",
        "    print(df[column].value_counts())\n",
        "    print()"
      ],
      "metadata": {
        "colab": {
          "base_uri": "https://localhost:8080/"
        },
        "id": "e6jd6j2Jyztk",
        "outputId": "e7f3df67-3c07-470a-8962-046906b43557"
      },
      "id": "e6jd6j2Jyztk",
      "execution_count": 649,
      "outputs": [
        {
          "output_type": "stream",
          "name": "stdout",
          "text": [
            "job\n",
            "admin.           10422\n",
            "blue-collar       9254\n",
            "technician        6743\n",
            "services          3969\n",
            "management        2924\n",
            "retired           1720\n",
            "entrepreneur      1456\n",
            "self-employed     1421\n",
            "housemaid         1060\n",
            "unemployed        1014\n",
            "student            875\n",
            "unknown            330\n",
            "Name: job, dtype: int64\n",
            "\n",
            "marital\n",
            "married     24928\n",
            "single      11568\n",
            "divorced     4612\n",
            "unknown        80\n",
            "Name: marital, dtype: int64\n",
            "\n",
            "education\n",
            "university.degree      12168\n",
            "high.school             9515\n",
            "basic.9y                6045\n",
            "professional.course     5243\n",
            "basic.4y                4176\n",
            "basic.6y                2292\n",
            "unknown                 1731\n",
            "illiterate                18\n",
            "Name: education, dtype: int64\n",
            "\n",
            "creditDefault\n",
            "no         32588\n",
            "unknown     8597\n",
            "yes            3\n",
            "Name: creditDefault, dtype: int64\n",
            "\n",
            "houseLoan\n",
            "yes        21576\n",
            "no         18622\n",
            "unknown      990\n",
            "Name: houseLoan, dtype: int64\n",
            "\n",
            "personalLoan\n",
            "no         33950\n",
            "yes         6248\n",
            "unknown      990\n",
            "Name: personalLoan, dtype: int64\n",
            "\n",
            "contactType\n",
            "cellular     26144\n",
            "telephone    15044\n",
            "Name: contactType, dtype: int64\n",
            "\n",
            "contactMonth\n",
            "may    13769\n",
            "jul     7174\n",
            "aug     6178\n",
            "jun     5318\n",
            "nov     4101\n",
            "apr     2632\n",
            "oct      718\n",
            "sep      570\n",
            "mar      546\n",
            "dec      182\n",
            "Name: contactMonth, dtype: int64\n",
            "\n",
            "day_of_week\n",
            "thu    8623\n",
            "mon    8514\n",
            "wed    8134\n",
            "tue    8090\n",
            "fri    7827\n",
            "Name: day_of_week, dtype: int64\n",
            "\n",
            "poutcome\n",
            "nonexistent    35563\n",
            "failure         4252\n",
            "success         1373\n",
            "Name: poutcome, dtype: int64\n",
            "\n",
            "target\n",
            "no     36548\n",
            "yes     4640\n",
            "Name: target, dtype: int64\n",
            "\n"
          ]
        }
      ]
    },
    {
      "cell_type": "markdown",
      "source": [
        "Numerical Features Insights:"
      ],
      "metadata": {
        "id": "P5OstktW0pZm"
      },
      "id": "P5OstktW0pZm"
    },
    {
      "cell_type": "code",
      "source": [
        "sns.heatmap(df[num_columns].corr())"
      ],
      "metadata": {
        "colab": {
          "base_uri": "https://localhost:8080/",
          "height": 541
        },
        "id": "-ugDWPgozXnK",
        "outputId": "b8b3049b-7e3f-42d6-a196-c8dec8d70668"
      },
      "id": "-ugDWPgozXnK",
      "execution_count": 650,
      "outputs": [
        {
          "output_type": "execute_result",
          "data": {
            "text/plain": [
              "<Axes: >"
            ]
          },
          "metadata": {},
          "execution_count": 650
        },
        {
          "output_type": "display_data",
          "data": {
            "text/plain": [
              "<Figure size 640x480 with 2 Axes>"
            ],
            "image/png": "[encoded data removed]"
          },
          "metadata": {}
        }
      ]
    },
    {
      "cell_type": "markdown",
      "source": [
        "3 columns i.e euribor3m, nr.employed, emp.var.rate are highly correlated, we can drop 2 of these 3. we will drop the ones, with least statistical significance."
      ],
      "metadata": {
        "id": "CRiYhlUa00eD"
      },
      "id": "CRiYhlUa00eD"
    },
    {
      "cell_type": "code",
      "source": [
        "fig, axes = plt.subplots(2, 5, figsize=(20, 8))\n",
        "axes = axes.flatten()\n",
        "for i, column in enumerate(num_columns):\n",
        "    sns.boxplot(df[column], ax=axes[i])\n",
        "    axes[i].set_title(column)\n",
        "plt.show()"
      ],
      "metadata": {
        "colab": {
          "base_uri": "https://localhost:8080/",
          "height": 448
        },
        "id": "zNeKfDUO0yNh",
        "outputId": "67e0e5ef-a067-4cb4-f0f3-e627a68d8adb"
      },
      "id": "zNeKfDUO0yNh",
      "execution_count": 651,
      "outputs": [
        {
          "output_type": "display_data",
          "data": {
            "text/plain": [
              "<Figure size 2000x800 with 10 Axes>"
            ],
            "image/png": "[encoded data removed]"
          },
          "metadata": {}
        }
      ]
    },
    {
      "cell_type": "markdown",
      "source": [
        "here we observe age, duration, campaign have outliers"
      ],
      "metadata": {
        "id": "ff-T08YO079i"
      },
      "id": "ff-T08YO079i"
    },
    {
      "cell_type": "code",
      "source": [
        "dup_rows = df[df.duplicated()]\n",
        "dup_rows"
      ],
      "metadata": {
        "colab": {
          "base_uri": "https://localhost:8080/",
          "height": 492
        },
        "id": "uqfjDDh01A7W",
        "outputId": "649aac2d-e872-4e93-80f7-0520bc386f82"
      },
      "id": "uqfjDDh01A7W",
      "execution_count": 652,
      "outputs": [
        {
          "output_type": "execute_result",
          "data": {
            "text/plain": [
              "       age          job   marital            education creditDefault  \\\n",
              "1266    39  blue-collar   married             basic.6y            no   \n",
              "12261   36      retired   married              unknown            no   \n",
              "14234   27   technician    single  professional.course            no   \n",
              "16956   47   technician  divorced          high.school            no   \n",
              "18465   32   technician    single  professional.course            no   \n",
              "20216   55     services   married          high.school       unknown   \n",
              "20534   41   technician   married  professional.course            no   \n",
              "25217   39       admin.   married    university.degree            no   \n",
              "28477   24     services    single          high.school            no   \n",
              "32516   35       admin.   married    university.degree            no   \n",
              "36951   45       admin.   married    university.degree            no   \n",
              "38281   71      retired    single    university.degree            no   \n",
              "\n",
              "      houseLoan personalLoan contactType contactMonth day_of_week  ...  \\\n",
              "1266         no           no   telephone          may         thu  ...   \n",
              "12261        no           no   telephone          jul         thu  ...   \n",
              "14234        no           no    cellular          jul         mon  ...   \n",
              "16956       yes           no    cellular          jul         thu  ...   \n",
              "18465       yes           no    cellular          jul         thu  ...   \n",
              "20216        no           no    cellular          aug         mon  ...   \n",
              "20534       yes           no    cellular          aug         tue  ...   \n",
              "25217        no           no    cellular          nov         tue  ...   \n",
              "28477       yes           no    cellular          apr         tue  ...   \n",
              "32516       yes           no    cellular          may         fri  ...   \n",
              "36951        no           no    cellular          jul         thu  ...   \n",
              "38281        no           no   telephone          oct         tue  ...   \n",
              "\n",
              "       campaign  pdays  previous     poutcome emp_var_rate  cons_price_idx  \\\n",
              "1266          1    999         0  nonexistent          1.1          93.994   \n",
              "12261         1    999         0  nonexistent          1.4          93.918   \n",
              "14234         2    999         0  nonexistent          1.4          93.918   \n",
              "16956         3    999         0  nonexistent          1.4          93.918   \n",
              "18465         1    999         0  nonexistent          1.4          93.918   \n",
              "20216         1    999         0  nonexistent          1.4          93.444   \n",
              "20534         1    999         0  nonexistent          1.4          93.444   \n",
              "25217         2    999         0  nonexistent         -0.1          93.200   \n",
              "28477         1    999         0  nonexistent         -1.8          93.075   \n",
              "32516         4    999         0  nonexistent         -1.8          92.893   \n",
              "36951         1    999         0  nonexistent         -2.9          92.469   \n",
              "38281         1    999         0  nonexistent         -3.4          92.431   \n",
              "\n",
              "       con_confi_idx  euribor3m  noOfEmployee  target  \n",
              "1266           -36.4      4.855        5191.0      no  \n",
              "12261          -42.7      4.966        5228.1      no  \n",
              "14234          -42.7      4.962        5228.1      no  \n",
              "16956          -42.7      4.962        5228.1      no  \n",
              "18465          -42.7      4.968        5228.1      no  \n",
              "20216          -36.1      4.965        5228.1      no  \n",
              "20534          -36.1      4.966        5228.1      no  \n",
              "25217          -42.0      4.153        5195.8      no  \n",
              "28477          -47.1      1.423        5099.1      no  \n",
              "32516          -46.2      1.313        5099.1      no  \n",
              "36951          -33.6      1.072        5076.2     yes  \n",
              "38281          -26.9      0.742        5017.5      no  \n",
              "\n",
              "[12 rows x 21 columns]"
            ],
            "text/html": [
              "\n",
              "  <div id=\"df-5896cfc9-35f6-4b48-8eb2-e6f59c6928dd\" class=\"colab-df-container\">\n",
              "    <div>\n",
              "<style scoped>\n",
              "    .dataframe tbody tr th:only-of-type {\n",
              "        vertical-align: middle;\n",
              "    }\n",
              "\n",
              "    .dataframe tbody tr th {\n",
              "        vertical-align: top;\n",
              "    }\n",
              "\n",
              "    .dataframe thead th {\n",
              "        text-align: right;\n",
              "    }\n",
              "</style>\n",
              "<table border=\"1\" class=\"dataframe\">\n",
              "  <thead>\n",
              "    <tr style=\"text-align: right;\">\n",
              "      <th></th>\n",
              "      <th>age</th>\n",
              "      <th>job</th>\n",
              "      <th>marital</th>\n",
              "      <th>education</th>\n",
              "      <th>creditDefault</th>\n",
              "      <th>houseLoan</th>\n",
              "      <th>personalLoan</th>\n",
              "      <th>contactType</th>\n",
              "      <th>contactMonth</th>\n",
              "      <th>day_of_week</th>\n",
              "      <th>...</th>\n",
              "      <th>campaign</th>\n",
              "      <th>pdays</th>\n",
              "      <th>previous</th>\n",
              "      <th>poutcome</th>\n",
              "      <th>emp_var_rate</th>\n",
              "      <th>cons_price_idx</th>\n",
              "      <th>con_confi_idx</th>\n",
              "      <th>euribor3m</th>\n",
              "      <th>noOfEmployee</th>\n",
              "      <th>target</th>\n",
              "    </tr>\n",
              "  </thead>\n",
              "  <tbody>\n",
              "    <tr>\n",
              "      <th>1266</th>\n",
              "      <td>39</td>\n",
              "      <td>blue-collar</td>\n",
              "      <td>married</td>\n",
              "      <td>basic.6y</td>\n",
              "      <td>no</td>\n",
              "      <td>no</td>\n",
              "      <td>no</td>\n",
              "      <td>telephone</td>\n",
              "      <td>may</td>\n",
              "      <td>thu</td>\n",
              "      <td>...</td>\n",
              "      <td>1</td>\n",
              "      <td>999</td>\n",
              "      <td>0</td>\n",
              "      <td>nonexistent</td>\n",
              "      <td>1.1</td>\n",
              "      <td>93.994</td>\n",
              "      <td>-36.4</td>\n",
              "      <td>4.855</td>\n",
              "      <td>5191.0</td>\n",
              "      <td>no</td>\n",
              "    </tr>\n",
              "    <tr>\n",
              "      <th>12261</th>\n",
              "      <td>36</td>\n",
              "      <td>retired</td>\n",
              "      <td>married</td>\n",
              "      <td>unknown</td>\n",
              "      <td>no</td>\n",
              "      <td>no</td>\n",
              "      <td>no</td>\n",
              "      <td>telephone</td>\n",
              "      <td>jul</td>\n",
              "      <td>thu</td>\n",
              "      <td>...</td>\n",
              "      <td>1</td>\n",
              "      <td>999</td>\n",
              "      <td>0</td>\n",
              "      <td>nonexistent</td>\n",
              "      <td>1.4</td>\n",
              "      <td>93.918</td>\n",
              "      <td>-42.7</td>\n",
              "      <td>4.966</td>\n",
              "      <td>5228.1</td>\n",
              "      <td>no</td>\n",
              "    </tr>\n",
              "    <tr>\n",
              "      <th>14234</th>\n",
              "      <td>27</td>\n",
              "      <td>technician</td>\n",
              "      <td>single</td>\n",
              "      <td>professional.course</td>\n",
              "      <td>no</td>\n",
              "      <td>no</td>\n",
              "      <td>no</td>\n",
              "      <td>cellular</td>\n",
              "      <td>jul</td>\n",
              "      <td>mon</td>\n",
              "      <td>...</td>\n",
              "      <td>2</td>\n",
              "      <td>999</td>\n",
              "      <td>0</td>\n",
              "      <td>nonexistent</td>\n",
              "      <td>1.4</td>\n",
              "      <td>93.918</td>\n",
              "      <td>-42.7</td>\n",
              "      <td>4.962</td>\n",
              "      <td>5228.1</td>\n",
              "      <td>no</td>\n",
              "    </tr>\n",
              "    <tr>\n",
              "      <th>16956</th>\n",
              "      <td>47</td>\n",
              "      <td>technician</td>\n",
              "      <td>divorced</td>\n",
              "      <td>high.school</td>\n",
              "      <td>no</td>\n",
              "      <td>yes</td>\n",
              "      <td>no</td>\n",
              "      <td>cellular</td>\n",
              "      <td>jul</td>\n",
              "      <td>thu</td>\n",
              "      <td>...</td>\n",
              "      <td>3</td>\n",
              "      <td>999</td>\n",
              "      <td>0</td>\n",
              "      <td>nonexistent</td>\n",
              "      <td>1.4</td>\n",
              "      <td>93.918</td>\n",
              "      <td>-42.7</td>\n",
              "      <td>4.962</td>\n",
              "      <td>5228.1</td>\n",
              "      <td>no</td>\n",
              "    </tr>\n",
              "    <tr>\n",
              "      <th>18465</th>\n",
              "      <td>32</td>\n",
              "      <td>technician</td>\n",
              "      <td>single</td>\n",
              "      <td>professional.course</td>\n",
              "      <td>no</td>\n",
              "      <td>yes</td>\n",
              "      <td>no</td>\n",
              "      <td>cellular</td>\n",
              "      <td>jul</td>\n",
              "      <td>thu</td>\n",
              "      <td>...</td>\n",
              "      <td>1</td>\n",
              "      <td>999</td>\n",
              "      <td>0</td>\n",
              "      <td>nonexistent</td>\n",
              "      <td>1.4</td>\n",
              "      <td>93.918</td>\n",
              "      <td>-42.7</td>\n",
              "      <td>4.968</td>\n",
              "      <td>5228.1</td>\n",
              "      <td>no</td>\n",
              "    </tr>\n",
              "    <tr>\n",
              "      <th>20216</th>\n",
              "      <td>55</td>\n",
              "      <td>services</td>\n",
              "      <td>married</td>\n",
              "      <td>high.school</td>\n",
              "      <td>unknown</td>\n",
              "      <td>no</td>\n",
              "      <td>no</td>\n",
              "      <td>cellular</td>\n",
              "      <td>aug</td>\n",
              "      <td>mon</td>\n",
              "      <td>...</td>\n",
              "      <td>1</td>\n",
              "      <td>999</td>\n",
              "      <td>0</td>\n",
              "      <td>nonexistent</td>\n",
              "      <td>1.4</td>\n",
              "      <td>93.444</td>\n",
              "      <td>-36.1</td>\n",
              "      <td>4.965</td>\n",
              "      <td>5228.1</td>\n",
              "      <td>no</td>\n",
              "    </tr>\n",
              "    <tr>\n",
              "      <th>20534</th>\n",
              "      <td>41</td>\n",
              "      <td>technician</td>\n",
              "      <td>married</td>\n",
              "      <td>professional.course</td>\n",
              "      <td>no</td>\n",
              "      <td>yes</td>\n",
              "      <td>no</td>\n",
              "      <td>cellular</td>\n",
              "      <td>aug</td>\n",
              "      <td>tue</td>\n",
              "      <td>...</td>\n",
              "      <td>1</td>\n",
              "      <td>999</td>\n",
              "      <td>0</td>\n",
              "      <td>nonexistent</td>\n",
              "      <td>1.4</td>\n",
              "      <td>93.444</td>\n",
              "      <td>-36.1</td>\n",
              "      <td>4.966</td>\n",
              "      <td>5228.1</td>\n",
              "      <td>no</td>\n",
              "    </tr>\n",
              "    <tr>\n",
              "      <th>25217</th>\n",
              "      <td>39</td>\n",
              "      <td>admin.</td>\n",
              "      <td>married</td>\n",
              "      <td>university.degree</td>\n",
              "      <td>no</td>\n",
              "      <td>no</td>\n",
              "      <td>no</td>\n",
              "      <td>cellular</td>\n",
              "      <td>nov</td>\n",
              "      <td>tue</td>\n",
              "      <td>...</td>\n",
              "      <td>2</td>\n",
              "      <td>999</td>\n",
              "      <td>0</td>\n",
              "      <td>nonexistent</td>\n",
              "      <td>-0.1</td>\n",
              "      <td>93.200</td>\n",
              "      <td>-42.0</td>\n",
              "      <td>4.153</td>\n",
              "      <td>5195.8</td>\n",
              "      <td>no</td>\n",
              "    </tr>\n",
              "    <tr>\n",
              "      <th>28477</th>\n",
              "      <td>24</td>\n",
              "      <td>services</td>\n",
              "      <td>single</td>\n",
              "      <td>high.school</td>\n",
              "      <td>no</td>\n",
              "      <td>yes</td>\n",
              "      <td>no</td>\n",
              "      <td>cellular</td>\n",
              "      <td>apr</td>\n",
              "      <td>tue</td>\n",
              "      <td>...</td>\n",
              "      <td>1</td>\n",
              "      <td>999</td>\n",
              "      <td>0</td>\n",
              "      <td>nonexistent</td>\n",
              "      <td>-1.8</td>\n",
              "      <td>93.075</td>\n",
              "      <td>-47.1</td>\n",
              "      <td>1.423</td>\n",
              "      <td>5099.1</td>\n",
              "      <td>no</td>\n",
              "    </tr>\n",
              "    <tr>\n",
              "      <th>32516</th>\n",
              "      <td>35</td>\n",
              "      <td>admin.</td>\n",
              "      <td>married</td>\n",
              "      <td>university.degree</td>\n",
              "      <td>no</td>\n",
              "      <td>yes</td>\n",
              "      <td>no</td>\n",
              "      <td>cellular</td>\n",
              "      <td>may</td>\n",
              "      <td>fri</td>\n",
              "      <td>...</td>\n",
              "      <td>4</td>\n",
              "      <td>999</td>\n",
              "      <td>0</td>\n",
              "      <td>nonexistent</td>\n",
              "      <td>-1.8</td>\n",
              "      <td>92.893</td>\n",
              "      <td>-46.2</td>\n",
              "      <td>1.313</td>\n",
              "      <td>5099.1</td>\n",
              "      <td>no</td>\n",
              "    </tr>\n",
              "    <tr>\n",
              "      <th>36951</th>\n",
              "      <td>45</td>\n",
              "      <td>admin.</td>\n",
              "      <td>married</td>\n",
              "      <td>university.degree</td>\n",
              "      <td>no</td>\n",
              "      <td>no</td>\n",
              "      <td>no</td>\n",
              "      <td>cellular</td>\n",
              "      <td>jul</td>\n",
              "      <td>thu</td>\n",
              "      <td>...</td>\n",
              "      <td>1</td>\n",
              "      <td>999</td>\n",
              "      <td>0</td>\n",
              "      <td>nonexistent</td>\n",
              "      <td>-2.9</td>\n",
              "      <td>92.469</td>\n",
              "      <td>-33.6</td>\n",
              "      <td>1.072</td>\n",
              "      <td>5076.2</td>\n",
              "      <td>yes</td>\n",
              "    </tr>\n",
              "    <tr>\n",
              "      <th>38281</th>\n",
              "      <td>71</td>\n",
              "      <td>retired</td>\n",
              "      <td>single</td>\n",
              "      <td>university.degree</td>\n",
              "      <td>no</td>\n",
              "      <td>no</td>\n",
              "      <td>no</td>\n",
              "      <td>telephone</td>\n",
              "      <td>oct</td>\n",
              "      <td>tue</td>\n",
              "      <td>...</td>\n",
              "      <td>1</td>\n",
              "      <td>999</td>\n",
              "      <td>0</td>\n",
              "      <td>nonexistent</td>\n",
              "      <td>-3.4</td>\n",
              "      <td>92.431</td>\n",
              "      <td>-26.9</td>\n",
              "      <td>0.742</td>\n",
              "      <td>5017.5</td>\n",
              "      <td>no</td>\n",
              "    </tr>\n",
              "  </tbody>\n",
              "</table>\n",
              "<p>12 rows × 21 columns</p>\n",
              "</div>\n",
              "    <div class=\"colab-df-buttons\">\n",
              "\n",
              "  <div class=\"colab-df-container\">\n",
              "    <button class=\"colab-df-convert\" onclick=\"convertToInteractive('df-5896cfc9-35f6-4b48-8eb2-e6f59c6928dd')\"\n",
              "            title=\"Convert this dataframe to an interactive table.\"\n",
              "            style=\"display:none;\">\n",
              "\n",
              "  <svg xmlns=\"http://www.w3.org/2000/svg\" height=\"24px\" viewBox=\"0 -960 960 960\">\n",
              "    <path d=\"M120-120v-720h720v720H120Zm60-500h600v-160H180v160Zm220 220h160v-160H400v160Zm0 220h160v-160H400v160ZM180-400h160v-160H180v160Zm440 0h160v-160H620v160ZM180-180h160v-160H180v160Zm440 0h160v-160H620v160Z\"/>\n",
              "  </svg>\n",
              "    </button>\n",
              "\n",
              "  <style>\n",
              "    .colab-df-container {\n",
              "      display:flex;\n",
              "      gap: 12px;\n",
              "    }\n",
              "\n",
              "    .colab-df-convert {\n",
              "      background-color: #E8F0FE;\n",
              "      border: none;\n",
              "      border-radius: 50%;\n",
              "      cursor: pointer;\n",
              "      display: none;\n",
              "      fill: #1967D2;\n",
              "      height: 32px;\n",
              "      padding: 0 0 0 0;\n",
              "      width: 32px;\n",
              "    }\n",
              "\n",
              "    .colab-df-convert:hover {\n",
              "      background-color: #E2EBFA;\n",
              "      box-shadow: 0px 1px 2px rgba(60, 64, 67, 0.3), 0px 1px 3px 1px rgba(60, 64, 67, 0.15);\n",
              "      fill: #174EA6;\n",
              "    }\n",
              "\n",
              "    .colab-df-buttons div {\n",
              "      margin-bottom: 4px;\n",
              "    }\n",
              "\n",
              "    [theme=dark] .colab-df-convert {\n",
              "      background-color: #3B4455;\n",
              "      fill: #D2E3FC;\n",
              "    }\n",
              "\n",
              "    [theme=dark] .colab-df-convert:hover {\n",
              "      background-color: #434B5C;\n",
              "      box-shadow: 0px 1px 3px 1px rgba(0, 0, 0, 0.15);\n",
              "      filter: drop-shadow(0px 1px 2px rgba(0, 0, 0, 0.3));\n",
              "      fill: #FFFFFF;\n",
              "    }\n",
              "  </style>\n",
              "\n",
              "    <script>\n",
              "      const buttonEl =\n",
              "        document.querySelector('#df-5896cfc9-35f6-4b48-8eb2-e6f59c6928dd button.colab-df-convert');\n",
              "      buttonEl.style.display =\n",
              "        google.colab.kernel.accessAllowed ? 'block' : 'none';\n",
              "\n",
              "      async function convertToInteractive(key) {\n",
              "        const element = document.querySelector('#df-5896cfc9-35f6-4b48-8eb2-e6f59c6928dd');\n",
              "        const dataTable =\n",
              "          await google.colab.kernel.invokeFunction('convertToInteractive',\n",
              "                                                    [key], {});\n",
              "        if (!dataTable) return;\n",
              "\n",
              "        const docLinkHtml = 'Like what you see? Visit the ' +\n",
              "          '<a target=\"_blank\" href=https://colab.research.google.com/notebooks/data_table.ipynb>data table notebook</a>'\n",
              "          + ' to learn more about interactive tables.';\n",
              "        element.innerHTML = '';\n",
              "        dataTable['output_type'] = 'display_data';\n",
              "        await google.colab.output.renderOutput(dataTable, element);\n",
              "        const docLink = document.createElement('div');\n",
              "        docLink.innerHTML = docLinkHtml;\n",
              "        element.appendChild(docLink);\n",
              "      }\n",
              "    </script>\n",
              "  </div>\n",
              "\n",
              "\n",
              "<div id=\"df-9f54be4d-e376-4560-bdc4-c4e0a9a98bca\">\n",
              "  <button class=\"colab-df-quickchart\" onclick=\"quickchart('df-9f54be4d-e376-4560-bdc4-c4e0a9a98bca')\"\n",
              "            title=\"Suggest charts.\"\n",
              "            style=\"display:none;\">\n",
              "\n",
              "<svg xmlns=\"http://www.w3.org/2000/svg\" height=\"24px\"viewBox=\"0 0 24 24\"\n",
              "     width=\"24px\">\n",
              "    <g>\n",
              "        <path d=\"M19 3H5c-1.1 0-2 .9-2 2v14c0 1.1.9 2 2 2h14c1.1 0 2-.9 2-2V5c0-1.1-.9-2-2-2zM9 17H7v-7h2v7zm4 0h-2V7h2v10zm4 0h-2v-4h2v4z\"/>\n",
              "    </g>\n",
              "</svg>\n",
              "  </button>\n",
              "\n",
              "<style>\n",
              "  .colab-df-quickchart {\n",
              "      --bg-color: #E8F0FE;\n",
              "      --fill-color: #1967D2;\n",
              "      --hover-bg-color: #E2EBFA;\n",
              "      --hover-fill-color: #174EA6;\n",
              "      --disabled-fill-color: #AAA;\n",
              "      --disabled-bg-color: #DDD;\n",
              "  }\n",
              "\n",
              "  [theme=dark] .colab-df-quickchart {\n",
              "      --bg-color: #3B4455;\n",
              "      --fill-color: #D2E3FC;\n",
              "      --hover-bg-color: #434B5C;\n",
              "      --hover-fill-color: #FFFFFF;\n",
              "      --disabled-bg-color: #3B4455;\n",
              "      --disabled-fill-color: #666;\n",
              "  }\n",
              "\n",
              "  .colab-df-quickchart {\n",
              "    background-color: var(--bg-color);\n",
              "    border: none;\n",
              "    border-radius: 50%;\n",
              "    cursor: pointer;\n",
              "    display: none;\n",
              "    fill: var(--fill-color);\n",
              "    height: 32px;\n",
              "    padding: 0;\n",
              "    width: 32px;\n",
              "  }\n",
              "\n",
              "  .colab-df-quickchart:hover {\n",
              "    background-color: var(--hover-bg-color);\n",
              "    box-shadow: 0 1px 2px rgba(60, 64, 67, 0.3), 0 1px 3px 1px rgba(60, 64, 67, 0.15);\n",
              "    fill: var(--button-hover-fill-color);\n",
              "  }\n",
              "\n",
              "  .colab-df-quickchart-complete:disabled,\n",
              "  .colab-df-quickchart-complete:disabled:hover {\n",
              "    background-color: var(--disabled-bg-color);\n",
              "    fill: var(--disabled-fill-color);\n",
              "    box-shadow: none;\n",
              "  }\n",
              "\n",
              "  .colab-df-spinner {\n",
              "    border: 2px solid var(--fill-color);\n",
              "    border-color: transparent;\n",
              "    border-bottom-color: var(--fill-color);\n",
              "    animation:\n",
              "      spin 1s steps(1) infinite;\n",
              "  }\n",
              "\n",
              "  @keyframes spin {\n",
              "    0% {\n",
              "      border-color: transparent;\n",
              "      border-bottom-color: var(--fill-color);\n",
              "      border-left-color: var(--fill-color);\n",
              "    }\n",
              "    20% {\n",
              "      border-color: transparent;\n",
              "      border-left-color: var(--fill-color);\n",
              "      border-top-color: var(--fill-color);\n",
              "    }\n",
              "    30% {\n",
              "      border-color: transparent;\n",
              "      border-left-color: var(--fill-color);\n",
              "      border-top-color: var(--fill-color);\n",
              "      border-right-color: var(--fill-color);\n",
              "    }\n",
              "    40% {\n",
              "      border-color: transparent;\n",
              "      border-right-color: var(--fill-color);\n",
              "      border-top-color: var(--fill-color);\n",
              "    }\n",
              "    60% {\n",
              "      border-color: transparent;\n",
              "      border-right-color: var(--fill-color);\n",
              "    }\n",
              "    80% {\n",
              "      border-color: transparent;\n",
              "      border-right-color: var(--fill-color);\n",
              "      border-bottom-color: var(--fill-color);\n",
              "    }\n",
              "    90% {\n",
              "      border-color: transparent;\n",
              "      border-bottom-color: var(--fill-color);\n",
              "    }\n",
              "  }\n",
              "</style>\n",
              "\n",
              "  <script>\n",
              "    async function quickchart(key) {\n",
              "      const quickchartButtonEl =\n",
              "        document.querySelector('#' + key + ' button');\n",
              "      quickchartButtonEl.disabled = true;  // To prevent multiple clicks.\n",
              "      quickchartButtonEl.classList.add('colab-df-spinner');\n",
              "      try {\n",
              "        const charts = await google.colab.kernel.invokeFunction(\n",
              "            'suggestCharts', [key], {});\n",
              "      } catch (error) {\n",
              "        console.error('Error during call to suggestCharts:', error);\n",
              "      }\n",
              "      quickchartButtonEl.classList.remove('colab-df-spinner');\n",
              "      quickchartButtonEl.classList.add('colab-df-quickchart-complete');\n",
              "    }\n",
              "    (() => {\n",
              "      let quickchartButtonEl =\n",
              "        document.querySelector('#df-9f54be4d-e376-4560-bdc4-c4e0a9a98bca button');\n",
              "      quickchartButtonEl.style.display =\n",
              "        google.colab.kernel.accessAllowed ? 'block' : 'none';\n",
              "    })();\n",
              "  </script>\n",
              "</div>\n",
              "    </div>\n",
              "  </div>\n"
            ]
          },
          "metadata": {},
          "execution_count": 652
        }
      ]
    },
    {
      "cell_type": "code",
      "source": [
        "df[df['target'] == 'yes']['duration'].describe()"
      ],
      "metadata": {
        "colab": {
          "base_uri": "https://localhost:8080/"
        },
        "id": "Fwhy9Uoj1GCQ",
        "outputId": "315a797a-b136-4440-faab-b0fec2237915"
      },
      "id": "Fwhy9Uoj1GCQ",
      "execution_count": 653,
      "outputs": [
        {
          "output_type": "execute_result",
          "data": {
            "text/plain": [
              "count    4640.000000\n",
              "mean      553.191164\n",
              "std       401.171871\n",
              "min        37.000000\n",
              "25%       253.000000\n",
              "50%       449.000000\n",
              "75%       741.250000\n",
              "max      4199.000000\n",
              "Name: duration, dtype: float64"
            ]
          },
          "metadata": {},
          "execution_count": 653
        }
      ]
    },
    {
      "cell_type": "code",
      "source": [
        "df[df['target'] == 'no']['duration'].describe()"
      ],
      "metadata": {
        "colab": {
          "base_uri": "https://localhost:8080/"
        },
        "id": "Ys9xLH9K1I65",
        "outputId": "74097e27-1263-42a6-c88c-76050d0c0ada"
      },
      "id": "Ys9xLH9K1I65",
      "execution_count": 654,
      "outputs": [
        {
          "output_type": "execute_result",
          "data": {
            "text/plain": [
              "count    36548.000000\n",
              "mean       220.844807\n",
              "std        207.096293\n",
              "min          0.000000\n",
              "25%         95.000000\n",
              "50%        163.500000\n",
              "75%        279.000000\n",
              "max       4918.000000\n",
              "Name: duration, dtype: float64"
            ]
          },
          "metadata": {},
          "execution_count": 654
        }
      ]
    },
    {
      "cell_type": "code",
      "source": [
        "df[df['target'] == 'yes']['age'].describe()"
      ],
      "metadata": {
        "colab": {
          "base_uri": "https://localhost:8080/"
        },
        "id": "9rxXUZzV1MVc",
        "outputId": "41ced334-7e88-4b6d-f0b7-61916ef89897"
      },
      "id": "9rxXUZzV1MVc",
      "execution_count": 655,
      "outputs": [
        {
          "output_type": "execute_result",
          "data": {
            "text/plain": [
              "count    4640.000000\n",
              "mean       40.913147\n",
              "std        13.837476\n",
              "min        17.000000\n",
              "25%        31.000000\n",
              "50%        37.000000\n",
              "75%        50.000000\n",
              "max        98.000000\n",
              "Name: age, dtype: float64"
            ]
          },
          "metadata": {},
          "execution_count": 655
        }
      ]
    },
    {
      "cell_type": "code",
      "source": [
        "df[df['target'] == 'no']['age'].describe()"
      ],
      "metadata": {
        "colab": {
          "base_uri": "https://localhost:8080/"
        },
        "id": "57_YLQZQ1QBg",
        "outputId": "e8c79bc9-9cee-4566-b7f6-e48a7478fd32"
      },
      "id": "57_YLQZQ1QBg",
      "execution_count": 656,
      "outputs": [
        {
          "output_type": "execute_result",
          "data": {
            "text/plain": [
              "count    36548.000000\n",
              "mean        39.911185\n",
              "std          9.898132\n",
              "min         17.000000\n",
              "25%         32.000000\n",
              "50%         38.000000\n",
              "75%         47.000000\n",
              "max         95.000000\n",
              "Name: age, dtype: float64"
            ]
          },
          "metadata": {},
          "execution_count": 656
        }
      ]
    },
    {
      "cell_type": "code",
      "source": [
        "df['duration'].value_counts().sort_index()"
      ],
      "metadata": {
        "colab": {
          "base_uri": "https://localhost:8080/"
        },
        "id": "bmHLqDlS1kdC",
        "outputId": "2d5ea9af-0542-43a0-d238-eb319b75c5d0"
      },
      "id": "bmHLqDlS1kdC",
      "execution_count": 657,
      "outputs": [
        {
          "output_type": "execute_result",
          "data": {
            "text/plain": [
              "0        4\n",
              "1        3\n",
              "2        1\n",
              "3        3\n",
              "4       12\n",
              "        ..\n",
              "3631     1\n",
              "3643     1\n",
              "3785     1\n",
              "4199     1\n",
              "4918     1\n",
              "Name: duration, Length: 1544, dtype: int64"
            ]
          },
          "metadata": {},
          "execution_count": 657
        }
      ]
    },
    {
      "cell_type": "markdown",
      "source": [
        "Above Numerical Features have outliers as it values and highly skewed."
      ],
      "metadata": {
        "id": "5rw_DOEs1Z_T"
      },
      "id": "5rw_DOEs1Z_T"
    },
    {
      "cell_type": "markdown",
      "source": [
        "# Preprocessing"
      ],
      "metadata": {
        "id": "Qyq33N1x193_"
      },
      "id": "Qyq33N1x193_"
    },
    {
      "cell_type": "markdown",
      "source": [
        "Drop Duplicate records"
      ],
      "metadata": {
        "id": "E7NKd55i2FLx"
      },
      "id": "E7NKd55i2FLx"
    },
    {
      "cell_type": "code",
      "source": [
        "df.drop_duplicates(inplace=True)\n",
        "df.shape"
      ],
      "metadata": {
        "colab": {
          "base_uri": "https://localhost:8080/"
        },
        "id": "bQgfqUAU1TjK",
        "outputId": "b629a9a1-49ed-4ea2-d112-c103354712d0"
      },
      "id": "bQgfqUAU1TjK",
      "execution_count": 658,
      "outputs": [
        {
          "output_type": "execute_result",
          "data": {
            "text/plain": [
              "(41176, 21)"
            ]
          },
          "metadata": {},
          "execution_count": 658
        }
      ]
    },
    {
      "cell_type": "markdown",
      "source": [
        "**Statistical Tests**"
      ],
      "metadata": {
        "id": "iWYmtkms2Ttv"
      },
      "id": "iWYmtkms2Ttv"
    },
    {
      "cell_type": "markdown",
      "id": "260555ba",
      "metadata": {
        "id": "260555ba"
      },
      "source": [
        "Categorical Features"
      ]
    },
    {
      "cell_type": "code",
      "source": [
        "from scipy.stats import chi2_contingency\n",
        "\n",
        "significant_columns = []\n",
        "for column in cat_columns:\n",
        "    contigency = pd.crosstab(df['target'], df[column])\n",
        "    contigency\n",
        "    c, p, dof, exp = chi2_contingency(contigency)\n",
        "    if p < .05:\n",
        "        significant_columns.append(column)\n",
        "    print(column, p)"
      ],
      "metadata": {
        "colab": {
          "base_uri": "https://localhost:8080/"
        },
        "id": "bImshsvo2df4",
        "outputId": "997e05f5-ee3e-426f-8f73-96691b1dc9b6"
      },
      "id": "bImshsvo2df4",
      "execution_count": 659,
      "outputs": [
        {
          "output_type": "stream",
          "name": "stdout",
          "text": [
            "job 3.2684116066165443e-199\n",
            "marital 1.778422500461116e-26\n",
            "education 3.746768377534744e-38\n",
            "creditDefault 5.2175408937279634e-89\n",
            "houseLoan 0.05663792749452545\n",
            "personalLoan 0.5771532081176227\n",
            "contactType 1.7187406241263769e-189\n",
            "contactMonth 0.0\n",
            "day_of_week 3.085754965631736e-05\n",
            "poutcome 0.0\n",
            "target 0.0\n"
          ]
        }
      ]
    },
    {
      "cell_type": "markdown",
      "source": [
        "Here we observe loan and housing are not showing any significant relation with our response variable, so we can drop those."
      ],
      "metadata": {
        "id": "S-ZW8F-V2l9c"
      },
      "id": "S-ZW8F-V2l9c"
    },
    {
      "cell_type": "code",
      "source": [
        "drop_columns = []\n",
        "drop_columns.append('houseLoan')\n",
        "drop_columns.append('personalLoan')"
      ],
      "metadata": {
        "id": "9FU6bQnR2qXo"
      },
      "id": "9FU6bQnR2qXo",
      "execution_count": 660,
      "outputs": []
    },
    {
      "cell_type": "markdown",
      "source": [
        "**Numerical Features:**"
      ],
      "metadata": {
        "id": "VUzIZ-Zo2xlk"
      },
      "id": "VUzIZ-Zo2xlk"
    },
    {
      "cell_type": "code",
      "source": [
        "num_cols = df.select_dtypes(exclude = object).columns\n",
        "num_cols"
      ],
      "metadata": {
        "colab": {
          "base_uri": "https://localhost:8080/"
        },
        "id": "VCvnt0FB3dhV",
        "outputId": "6e92dc21-19dd-463e-de21-c983d5a60d13"
      },
      "id": "VCvnt0FB3dhV",
      "execution_count": 661,
      "outputs": [
        {
          "output_type": "execute_result",
          "data": {
            "text/plain": [
              "Index(['age', 'duration', 'campaign', 'pdays', 'previous', 'emp_var_rate',\n",
              "       'cons_price_idx', 'con_confi_idx', 'euribor3m', 'noOfEmployee'],\n",
              "      dtype='object')"
            ]
          },
          "metadata": {},
          "execution_count": 661
        }
      ]
    },
    {
      "cell_type": "markdown",
      "source": [
        "lets test with linear regression as well"
      ],
      "metadata": {
        "id": "g1OsGiNX7FaE"
      },
      "id": "g1OsGiNX7FaE"
    },
    {
      "cell_type": "code",
      "source": [
        "from sklearn.preprocessing import LabelEncoder\n",
        "\n",
        "label_encoder = LabelEncoder()\n",
        "df['target'] = label_encoder.fit_transform(df['target'])"
      ],
      "metadata": {
        "id": "I5KlnjMd7RMj"
      },
      "id": "I5KlnjMd7RMj",
      "execution_count": 662,
      "outputs": []
    },
    {
      "cell_type": "code",
      "source": [
        "x = df.copy()"
      ],
      "metadata": {
        "id": "gUvPj0HC7laS"
      },
      "id": "gUvPj0HC7laS",
      "execution_count": 663,
      "outputs": []
    },
    {
      "cell_type": "code",
      "source": [
        "import statsmodels.api as sm\n",
        "\n",
        "# Fit the linear regression model (using statsmodel since sklearn doesn't provide p-values)\n",
        "model = sm.OLS(x['target'], x[num_columns]).fit()\n",
        "\n",
        "coefficients = model.params\n",
        "p_values = model.pvalues\n",
        "feature_names = x[num_columns].columns"
      ],
      "metadata": {
        "id": "mIzlpFfR7Ig5"
      },
      "id": "mIzlpFfR7Ig5",
      "execution_count": 664,
      "outputs": []
    },
    {
      "cell_type": "code",
      "source": [
        "results = pd.DataFrame({\n",
        "    'Coefficient': coefficients,\n",
        "    'P-value': p_values\n",
        "})\n",
        "\n",
        "print(results)"
      ],
      "metadata": {
        "colab": {
          "base_uri": "https://localhost:8080/"
        },
        "id": "Eq2lXHQS7pLh",
        "outputId": "1976e50f-7eef-47a2-c4ad-36e4d4ec3204"
      },
      "id": "Eq2lXHQS7pLh",
      "execution_count": 665,
      "outputs": [
        {
          "output_type": "stream",
          "name": "stdout",
          "text": [
            "                Coefficient        P-value\n",
            "age                0.000318   1.042997e-02\n",
            "duration           0.000468   0.000000e+00\n",
            "campaign           0.001187   1.166794e-02\n",
            "pdays             -0.000373   0.000000e+00\n",
            "previous          -0.029741   8.408802e-18\n",
            "emp_var_rate      -0.034340   4.732106e-15\n",
            "cons_price_idx     0.049253  9.154450e-126\n",
            "con_confi_idx      0.005530   9.011970e-58\n",
            "euribor3m         -0.000385   9.360386e-01\n",
            "noOfEmployee      -0.000782   2.002537e-82\n"
          ]
        }
      ]
    },
    {
      "cell_type": "code",
      "source": [
        "drop_columns.append('emp_var_rate')\n",
        "drop_columns.append('euribor3m')"
      ],
      "metadata": {
        "id": "vcRGc0Os7-UJ"
      },
      "id": "vcRGc0Os7-UJ",
      "execution_count": 666,
      "outputs": []
    },
    {
      "cell_type": "markdown",
      "source": [
        "All columns looks significant, since the t_statistic of noOfemployee is less than emp_var_rate and euribor3m, so we can drop those and keep noOfemployee"
      ],
      "metadata": {
        "id": "aXns8npF77Wh"
      },
      "id": "aXns8npF77Wh"
    },
    {
      "cell_type": "markdown",
      "source": [
        "check if there is any sort of ordering in the categorical column"
      ],
      "metadata": {
        "id": "XKA4p6GM8GFo"
      },
      "id": "XKA4p6GM8GFo"
    },
    {
      "cell_type": "code",
      "source": [
        "for column in cat_columns:\n",
        "    print(df.groupby([column])['target'].mean().sort_values(), '\\n')"
      ],
      "metadata": {
        "colab": {
          "base_uri": "https://localhost:8080/"
        },
        "id": "kQtyz7WJ8Fjh",
        "outputId": "6e67f01d-cfea-4278-836d-effbb7a5cbe5"
      },
      "id": "kQtyz7WJ8Fjh",
      "execution_count": 667,
      "outputs": [
        {
          "output_type": "stream",
          "name": "stdout",
          "text": [
            "job\n",
            "blue-collar      0.068951\n",
            "services         0.081422\n",
            "entrepreneur     0.085165\n",
            "housemaid        0.100000\n",
            "self-employed    0.104856\n",
            "technician       0.108325\n",
            "unknown          0.112121\n",
            "management       0.112175\n",
            "admin.           0.129667\n",
            "unemployed       0.142012\n",
            "retired          0.252619\n",
            "student          0.314286\n",
            "Name: target, dtype: float64 \n",
            "\n",
            "marital\n",
            "married     0.101561\n",
            "divorced    0.103231\n",
            "single      0.140090\n",
            "unknown     0.150000\n",
            "Name: target, dtype: float64 \n",
            "\n",
            "education\n",
            "basic.9y               0.078246\n",
            "basic.6y               0.082060\n",
            "basic.4y               0.102490\n",
            "high.school            0.108389\n",
            "professional.course    0.113550\n",
            "university.degree      0.137208\n",
            "unknown                0.145087\n",
            "illiterate             0.222222\n",
            "Name: target, dtype: float64 \n",
            "\n",
            "creditDefault\n",
            "yes        0.000000\n",
            "unknown    0.051536\n",
            "no         0.128803\n",
            "Name: target, dtype: float64 \n",
            "\n",
            "houseLoan\n",
            "unknown    0.108081\n",
            "no         0.108783\n",
            "yes        0.116221\n",
            "Name: target, dtype: float64 \n",
            "\n",
            "personalLoan\n",
            "unknown    0.108081\n",
            "yes        0.109315\n",
            "no         0.113413\n",
            "Name: target, dtype: float64 \n",
            "\n",
            "contactType\n",
            "telephone    0.052324\n",
            "cellular     0.147389\n",
            "Name: target, dtype: float64 \n",
            "\n",
            "contactMonth\n",
            "may    0.064357\n",
            "jul    0.090389\n",
            "nov    0.101463\n",
            "jun    0.105115\n",
            "aug    0.106056\n",
            "apr    0.204865\n",
            "oct    0.439331\n",
            "sep    0.449123\n",
            "dec    0.489011\n",
            "mar    0.505495\n",
            "Name: target, dtype: float64 \n",
            "\n",
            "day_of_week\n",
            "mon    0.099507\n",
            "fri    0.108101\n",
            "wed    0.116671\n",
            "tue    0.117858\n",
            "thu    0.121142\n",
            "Name: target, dtype: float64 \n",
            "\n",
            "poutcome\n",
            "nonexistent    0.088324\n",
            "failure        0.142286\n",
            "success        0.651129\n",
            "Name: target, dtype: float64 \n",
            "\n",
            "target\n",
            "0    0.0\n",
            "1    1.0\n",
            "Name: target, dtype: float64 \n",
            "\n"
          ]
        }
      ]
    },
    {
      "cell_type": "markdown",
      "source": [
        "Binning using Weight of Evidence and Information Value"
      ],
      "metadata": {
        "id": "uLmCHBS38P_D"
      },
      "id": "uLmCHBS38P_D"
    },
    {
      "cell_type": "code",
      "source": [
        "df['age'].describe()\n"
      ],
      "metadata": {
        "colab": {
          "base_uri": "https://localhost:8080/"
        },
        "id": "RxKbea6G8PWc",
        "outputId": "dbf2dde8-16c2-4c8f-a04b-b3ae70aea653"
      },
      "id": "RxKbea6G8PWc",
      "execution_count": 668,
      "outputs": [
        {
          "output_type": "execute_result",
          "data": {
            "text/plain": [
              "count    41176.00000\n",
              "mean        40.02380\n",
              "std         10.42068\n",
              "min         17.00000\n",
              "25%         32.00000\n",
              "50%         38.00000\n",
              "75%         47.00000\n",
              "max         98.00000\n",
              "Name: age, dtype: float64"
            ]
          },
          "metadata": {},
          "execution_count": 668
        }
      ]
    },
    {
      "cell_type": "code",
      "source": [
        "labels = ['17-25', '26-35', '36-45','46-60','>60']\n",
        "cutPoints= [16, 25, 35, 45, 60, 90]\n",
        "df['Age bracket'] = pd.cut(df['age'], cutPoints, labels = labels)"
      ],
      "metadata": {
        "id": "QSu_9Pp68NDT"
      },
      "id": "QSu_9Pp68NDT",
      "execution_count": 669,
      "outputs": []
    },
    {
      "cell_type": "code",
      "source": [
        "df_woe = pd.DataFrame(pd.pivot_table(df, index=['target'], values='age', columns=['Age bracket'], aggfunc='count', fill_value=0).T)"
      ],
      "metadata": {
        "id": "qUDt_uDk8W4t"
      },
      "id": "qUDt_uDk8W4t",
      "execution_count": 670,
      "outputs": []
    },
    {
      "cell_type": "code",
      "source": [
        "total_yes = df_woe[1].sum()\n",
        "total_no = df_woe[0].sum()\n",
        "df_woe['woe'] = np.log( (df_woe[1] / total_yes)  / (df_woe[0] / total_no))\n",
        "df_woe['IV'] = df_woe['woe'] * ((df_woe[1] / total_yes) - (df_woe[0] / total_no))"
      ],
      "metadata": {
        "id": "Qhm1gGbg8Zr4"
      },
      "id": "Qhm1gGbg8Zr4",
      "execution_count": 671,
      "outputs": []
    },
    {
      "cell_type": "code",
      "source": [
        "df_woe"
      ],
      "metadata": {
        "colab": {
          "base_uri": "https://localhost:8080/",
          "height": 238
        },
        "id": "9UVyvrL28csa",
        "outputId": "ab255a04-fa32-4661-83b5-58ee3a03c835"
      },
      "id": "9UVyvrL28csa",
      "execution_count": 672,
      "outputs": [
        {
          "output_type": "execute_result",
          "data": {
            "text/plain": [
              "target           0     1       woe        IV\n",
              "Age bracket                                 \n",
              "17-25         1316   349  0.737488  0.028976\n",
              "26-35        13104  1740  0.045736  0.000768\n",
              "36-45        11747  1092 -0.310819  0.026701\n",
              "46-60         9875  1044 -0.182179  0.008202\n",
              ">60            490   409  1.884078  0.141019"
            ],
            "text/html": [
              "\n",
              "  <div id=\"df-12b8c6f2-e867-407c-9a8f-04ae7c41f9cb\" class=\"colab-df-container\">\n",
              "    <div>\n",
              "<style scoped>\n",
              "    .dataframe tbody tr th:only-of-type {\n",
              "        vertical-align: middle;\n",
              "    }\n",
              "\n",
              "    .dataframe tbody tr th {\n",
              "        vertical-align: top;\n",
              "    }\n",
              "\n",
              "    .dataframe thead th {\n",
              "        text-align: right;\n",
              "    }\n",
              "</style>\n",
              "<table border=\"1\" class=\"dataframe\">\n",
              "  <thead>\n",
              "    <tr style=\"text-align: right;\">\n",
              "      <th>target</th>\n",
              "      <th>0</th>\n",
              "      <th>1</th>\n",
              "      <th>woe</th>\n",
              "      <th>IV</th>\n",
              "    </tr>\n",
              "    <tr>\n",
              "      <th>Age bracket</th>\n",
              "      <th></th>\n",
              "      <th></th>\n",
              "      <th></th>\n",
              "      <th></th>\n",
              "    </tr>\n",
              "  </thead>\n",
              "  <tbody>\n",
              "    <tr>\n",
              "      <th>17-25</th>\n",
              "      <td>1316</td>\n",
              "      <td>349</td>\n",
              "      <td>0.737488</td>\n",
              "      <td>0.028976</td>\n",
              "    </tr>\n",
              "    <tr>\n",
              "      <th>26-35</th>\n",
              "      <td>13104</td>\n",
              "      <td>1740</td>\n",
              "      <td>0.045736</td>\n",
              "      <td>0.000768</td>\n",
              "    </tr>\n",
              "    <tr>\n",
              "      <th>36-45</th>\n",
              "      <td>11747</td>\n",
              "      <td>1092</td>\n",
              "      <td>-0.310819</td>\n",
              "      <td>0.026701</td>\n",
              "    </tr>\n",
              "    <tr>\n",
              "      <th>46-60</th>\n",
              "      <td>9875</td>\n",
              "      <td>1044</td>\n",
              "      <td>-0.182179</td>\n",
              "      <td>0.008202</td>\n",
              "    </tr>\n",
              "    <tr>\n",
              "      <th>&gt;60</th>\n",
              "      <td>490</td>\n",
              "      <td>409</td>\n",
              "      <td>1.884078</td>\n",
              "      <td>0.141019</td>\n",
              "    </tr>\n",
              "  </tbody>\n",
              "</table>\n",
              "</div>\n",
              "    <div class=\"colab-df-buttons\">\n",
              "\n",
              "  <div class=\"colab-df-container\">\n",
              "    <button class=\"colab-df-convert\" onclick=\"convertToInteractive('df-12b8c6f2-e867-407c-9a8f-04ae7c41f9cb')\"\n",
              "            title=\"Convert this dataframe to an interactive table.\"\n",
              "            style=\"display:none;\">\n",
              "\n",
              "  <svg xmlns=\"http://www.w3.org/2000/svg\" height=\"24px\" viewBox=\"0 -960 960 960\">\n",
              "    <path d=\"M120-120v-720h720v720H120Zm60-500h600v-160H180v160Zm220 220h160v-160H400v160Zm0 220h160v-160H400v160ZM180-400h160v-160H180v160Zm440 0h160v-160H620v160ZM180-180h160v-160H180v160Zm440 0h160v-160H620v160Z\"/>\n",
              "  </svg>\n",
              "    </button>\n",
              "\n",
              "  <style>\n",
              "    .colab-df-container {\n",
              "      display:flex;\n",
              "      gap: 12px;\n",
              "    }\n",
              "\n",
              "    .colab-df-convert {\n",
              "      background-color: #E8F0FE;\n",
              "      border: none;\n",
              "      border-radius: 50%;\n",
              "      cursor: pointer;\n",
              "      display: none;\n",
              "      fill: #1967D2;\n",
              "      height: 32px;\n",
              "      padding: 0 0 0 0;\n",
              "      width: 32px;\n",
              "    }\n",
              "\n",
              "    .colab-df-convert:hover {\n",
              "      background-color: #E2EBFA;\n",
              "      box-shadow: 0px 1px 2px rgba(60, 64, 67, 0.3), 0px 1px 3px 1px rgba(60, 64, 67, 0.15);\n",
              "      fill: #174EA6;\n",
              "    }\n",
              "\n",
              "    .colab-df-buttons div {\n",
              "      margin-bottom: 4px;\n",
              "    }\n",
              "\n",
              "    [theme=dark] .colab-df-convert {\n",
              "      background-color: #3B4455;\n",
              "      fill: #D2E3FC;\n",
              "    }\n",
              "\n",
              "    [theme=dark] .colab-df-convert:hover {\n",
              "      background-color: #434B5C;\n",
              "      box-shadow: 0px 1px 3px 1px rgba(0, 0, 0, 0.15);\n",
              "      filter: drop-shadow(0px 1px 2px rgba(0, 0, 0, 0.3));\n",
              "      fill: #FFFFFF;\n",
              "    }\n",
              "  </style>\n",
              "\n",
              "    <script>\n",
              "      const buttonEl =\n",
              "        document.querySelector('#df-12b8c6f2-e867-407c-9a8f-04ae7c41f9cb button.colab-df-convert');\n",
              "      buttonEl.style.display =\n",
              "        google.colab.kernel.accessAllowed ? 'block' : 'none';\n",
              "\n",
              "      async function convertToInteractive(key) {\n",
              "        const element = document.querySelector('#df-12b8c6f2-e867-407c-9a8f-04ae7c41f9cb');\n",
              "        const dataTable =\n",
              "          await google.colab.kernel.invokeFunction('convertToInteractive',\n",
              "                                                    [key], {});\n",
              "        if (!dataTable) return;\n",
              "\n",
              "        const docLinkHtml = 'Like what you see? Visit the ' +\n",
              "          '<a target=\"_blank\" href=https://colab.research.google.com/notebooks/data_table.ipynb>data table notebook</a>'\n",
              "          + ' to learn more about interactive tables.';\n",
              "        element.innerHTML = '';\n",
              "        dataTable['output_type'] = 'display_data';\n",
              "        await google.colab.output.renderOutput(dataTable, element);\n",
              "        const docLink = document.createElement('div');\n",
              "        docLink.innerHTML = docLinkHtml;\n",
              "        element.appendChild(docLink);\n",
              "      }\n",
              "    </script>\n",
              "  </div>\n",
              "\n",
              "\n",
              "<div id=\"df-7c45759a-2608-4e0a-8752-ea6f1a2dd8dc\">\n",
              "  <button class=\"colab-df-quickchart\" onclick=\"quickchart('df-7c45759a-2608-4e0a-8752-ea6f1a2dd8dc')\"\n",
              "            title=\"Suggest charts.\"\n",
              "            style=\"display:none;\">\n",
              "\n",
              "<svg xmlns=\"http://www.w3.org/2000/svg\" height=\"24px\"viewBox=\"0 0 24 24\"\n",
              "     width=\"24px\">\n",
              "    <g>\n",
              "        <path d=\"M19 3H5c-1.1 0-2 .9-2 2v14c0 1.1.9 2 2 2h14c1.1 0 2-.9 2-2V5c0-1.1-.9-2-2-2zM9 17H7v-7h2v7zm4 0h-2V7h2v10zm4 0h-2v-4h2v4z\"/>\n",
              "    </g>\n",
              "</svg>\n",
              "  </button>\n",
              "\n",
              "<style>\n",
              "  .colab-df-quickchart {\n",
              "      --bg-color: #E8F0FE;\n",
              "      --fill-color: #1967D2;\n",
              "      --hover-bg-color: #E2EBFA;\n",
              "      --hover-fill-color: #174EA6;\n",
              "      --disabled-fill-color: #AAA;\n",
              "      --disabled-bg-color: #DDD;\n",
              "  }\n",
              "\n",
              "  [theme=dark] .colab-df-quickchart {\n",
              "      --bg-color: #3B4455;\n",
              "      --fill-color: #D2E3FC;\n",
              "      --hover-bg-color: #434B5C;\n",
              "      --hover-fill-color: #FFFFFF;\n",
              "      --disabled-bg-color: #3B4455;\n",
              "      --disabled-fill-color: #666;\n",
              "  }\n",
              "\n",
              "  .colab-df-quickchart {\n",
              "    background-color: var(--bg-color);\n",
              "    border: none;\n",
              "    border-radius: 50%;\n",
              "    cursor: pointer;\n",
              "    display: none;\n",
              "    fill: var(--fill-color);\n",
              "    height: 32px;\n",
              "    padding: 0;\n",
              "    width: 32px;\n",
              "  }\n",
              "\n",
              "  .colab-df-quickchart:hover {\n",
              "    background-color: var(--hover-bg-color);\n",
              "    box-shadow: 0 1px 2px rgba(60, 64, 67, 0.3), 0 1px 3px 1px rgba(60, 64, 67, 0.15);\n",
              "    fill: var(--button-hover-fill-color);\n",
              "  }\n",
              "\n",
              "  .colab-df-quickchart-complete:disabled,\n",
              "  .colab-df-quickchart-complete:disabled:hover {\n",
              "    background-color: var(--disabled-bg-color);\n",
              "    fill: var(--disabled-fill-color);\n",
              "    box-shadow: none;\n",
              "  }\n",
              "\n",
              "  .colab-df-spinner {\n",
              "    border: 2px solid var(--fill-color);\n",
              "    border-color: transparent;\n",
              "    border-bottom-color: var(--fill-color);\n",
              "    animation:\n",
              "      spin 1s steps(1) infinite;\n",
              "  }\n",
              "\n",
              "  @keyframes spin {\n",
              "    0% {\n",
              "      border-color: transparent;\n",
              "      border-bottom-color: var(--fill-color);\n",
              "      border-left-color: var(--fill-color);\n",
              "    }\n",
              "    20% {\n",
              "      border-color: transparent;\n",
              "      border-left-color: var(--fill-color);\n",
              "      border-top-color: var(--fill-color);\n",
              "    }\n",
              "    30% {\n",
              "      border-color: transparent;\n",
              "      border-left-color: var(--fill-color);\n",
              "      border-top-color: var(--fill-color);\n",
              "      border-right-color: var(--fill-color);\n",
              "    }\n",
              "    40% {\n",
              "      border-color: transparent;\n",
              "      border-right-color: var(--fill-color);\n",
              "      border-top-color: var(--fill-color);\n",
              "    }\n",
              "    60% {\n",
              "      border-color: transparent;\n",
              "      border-right-color: var(--fill-color);\n",
              "    }\n",
              "    80% {\n",
              "      border-color: transparent;\n",
              "      border-right-color: var(--fill-color);\n",
              "      border-bottom-color: var(--fill-color);\n",
              "    }\n",
              "    90% {\n",
              "      border-color: transparent;\n",
              "      border-bottom-color: var(--fill-color);\n",
              "    }\n",
              "  }\n",
              "</style>\n",
              "\n",
              "  <script>\n",
              "    async function quickchart(key) {\n",
              "      const quickchartButtonEl =\n",
              "        document.querySelector('#' + key + ' button');\n",
              "      quickchartButtonEl.disabled = true;  // To prevent multiple clicks.\n",
              "      quickchartButtonEl.classList.add('colab-df-spinner');\n",
              "      try {\n",
              "        const charts = await google.colab.kernel.invokeFunction(\n",
              "            'suggestCharts', [key], {});\n",
              "      } catch (error) {\n",
              "        console.error('Error during call to suggestCharts:', error);\n",
              "      }\n",
              "      quickchartButtonEl.classList.remove('colab-df-spinner');\n",
              "      quickchartButtonEl.classList.add('colab-df-quickchart-complete');\n",
              "    }\n",
              "    (() => {\n",
              "      let quickchartButtonEl =\n",
              "        document.querySelector('#df-7c45759a-2608-4e0a-8752-ea6f1a2dd8dc button');\n",
              "      quickchartButtonEl.style.display =\n",
              "        google.colab.kernel.accessAllowed ? 'block' : 'none';\n",
              "    })();\n",
              "  </script>\n",
              "</div>\n",
              "    </div>\n",
              "  </div>\n"
            ]
          },
          "metadata": {},
          "execution_count": 672
        }
      ]
    },
    {
      "cell_type": "code",
      "source": [
        "df_woe['IV'].sum()\n"
      ],
      "metadata": {
        "colab": {
          "base_uri": "https://localhost:8080/"
        },
        "id": "qgrWPxTU8g_Z",
        "outputId": "f84602d7-46f3-4817-a919-040cac64d42c"
      },
      "id": "qgrWPxTU8g_Z",
      "execution_count": 673,
      "outputs": [
        {
          "output_type": "execute_result",
          "data": {
            "text/plain": [
              "0.2056647160655795"
            ]
          },
          "metadata": {},
          "execution_count": 673
        }
      ]
    },
    {
      "cell_type": "markdown",
      "source": [
        "we can use this binning as this has an information value of .2, which makes our age bracket a moderate predictor"
      ],
      "metadata": {
        "id": "6ffE1hvR8j3Q"
      },
      "id": "6ffE1hvR8j3Q"
    },
    {
      "cell_type": "code",
      "source": [
        "df[['age','Age bracket']]"
      ],
      "metadata": {
        "colab": {
          "base_uri": "https://localhost:8080/",
          "height": 424
        },
        "id": "cpDnSJLa8nr2",
        "outputId": "a6e8b084-a6b4-4b65-b3d5-f3ebc5a598ac"
      },
      "id": "cpDnSJLa8nr2",
      "execution_count": 674,
      "outputs": [
        {
          "output_type": "execute_result",
          "data": {
            "text/plain": [
              "       age Age bracket\n",
              "0       56       46-60\n",
              "1       57       46-60\n",
              "2       37       36-45\n",
              "3       40       36-45\n",
              "4       56       46-60\n",
              "...    ...         ...\n",
              "41183   73         >60\n",
              "41184   46       46-60\n",
              "41185   56       46-60\n",
              "41186   44       36-45\n",
              "41187   74         >60\n",
              "\n",
              "[41176 rows x 2 columns]"
            ],
            "text/html": [
              "\n",
              "  <div id=\"df-65ef0b24-b47f-4c49-b417-732be1157777\" class=\"colab-df-container\">\n",
              "    <div>\n",
              "<style scoped>\n",
              "    .dataframe tbody tr th:only-of-type {\n",
              "        vertical-align: middle;\n",
              "    }\n",
              "\n",
              "    .dataframe tbody tr th {\n",
              "        vertical-align: top;\n",
              "    }\n",
              "\n",
              "    .dataframe thead th {\n",
              "        text-align: right;\n",
              "    }\n",
              "</style>\n",
              "<table border=\"1\" class=\"dataframe\">\n",
              "  <thead>\n",
              "    <tr style=\"text-align: right;\">\n",
              "      <th></th>\n",
              "      <th>age</th>\n",
              "      <th>Age bracket</th>\n",
              "    </tr>\n",
              "  </thead>\n",
              "  <tbody>\n",
              "    <tr>\n",
              "      <th>0</th>\n",
              "      <td>56</td>\n",
              "      <td>46-60</td>\n",
              "    </tr>\n",
              "    <tr>\n",
              "      <th>1</th>\n",
              "      <td>57</td>\n",
              "      <td>46-60</td>\n",
              "    </tr>\n",
              "    <tr>\n",
              "      <th>2</th>\n",
              "      <td>37</td>\n",
              "      <td>36-45</td>\n",
              "    </tr>\n",
              "    <tr>\n",
              "      <th>3</th>\n",
              "      <td>40</td>\n",
              "      <td>36-45</td>\n",
              "    </tr>\n",
              "    <tr>\n",
              "      <th>4</th>\n",
              "      <td>56</td>\n",
              "      <td>46-60</td>\n",
              "    </tr>\n",
              "    <tr>\n",
              "      <th>...</th>\n",
              "      <td>...</td>\n",
              "      <td>...</td>\n",
              "    </tr>\n",
              "    <tr>\n",
              "      <th>41183</th>\n",
              "      <td>73</td>\n",
              "      <td>&gt;60</td>\n",
              "    </tr>\n",
              "    <tr>\n",
              "      <th>41184</th>\n",
              "      <td>46</td>\n",
              "      <td>46-60</td>\n",
              "    </tr>\n",
              "    <tr>\n",
              "      <th>41185</th>\n",
              "      <td>56</td>\n",
              "      <td>46-60</td>\n",
              "    </tr>\n",
              "    <tr>\n",
              "      <th>41186</th>\n",
              "      <td>44</td>\n",
              "      <td>36-45</td>\n",
              "    </tr>\n",
              "    <tr>\n",
              "      <th>41187</th>\n",
              "      <td>74</td>\n",
              "      <td>&gt;60</td>\n",
              "    </tr>\n",
              "  </tbody>\n",
              "</table>\n",
              "<p>41176 rows × 2 columns</p>\n",
              "</div>\n",
              "    <div class=\"colab-df-buttons\">\n",
              "\n",
              "  <div class=\"colab-df-container\">\n",
              "    <button class=\"colab-df-convert\" onclick=\"convertToInteractive('df-65ef0b24-b47f-4c49-b417-732be1157777')\"\n",
              "            title=\"Convert this dataframe to an interactive table.\"\n",
              "            style=\"display:none;\">\n",
              "\n",
              "  <svg xmlns=\"http://www.w3.org/2000/svg\" height=\"24px\" viewBox=\"0 -960 960 960\">\n",
              "    <path d=\"M120-120v-720h720v720H120Zm60-500h600v-160H180v160Zm220 220h160v-160H400v160Zm0 220h160v-160H400v160ZM180-400h160v-160H180v160Zm440 0h160v-160H620v160ZM180-180h160v-160H180v160Zm440 0h160v-160H620v160Z\"/>\n",
              "  </svg>\n",
              "    </button>\n",
              "\n",
              "  <style>\n",
              "    .colab-df-container {\n",
              "      display:flex;\n",
              "      gap: 12px;\n",
              "    }\n",
              "\n",
              "    .colab-df-convert {\n",
              "      background-color: #E8F0FE;\n",
              "      border: none;\n",
              "      border-radius: 50%;\n",
              "      cursor: pointer;\n",
              "      display: none;\n",
              "      fill: #1967D2;\n",
              "      height: 32px;\n",
              "      padding: 0 0 0 0;\n",
              "      width: 32px;\n",
              "    }\n",
              "\n",
              "    .colab-df-convert:hover {\n",
              "      background-color: #E2EBFA;\n",
              "      box-shadow: 0px 1px 2px rgba(60, 64, 67, 0.3), 0px 1px 3px 1px rgba(60, 64, 67, 0.15);\n",
              "      fill: #174EA6;\n",
              "    }\n",
              "\n",
              "    .colab-df-buttons div {\n",
              "      margin-bottom: 4px;\n",
              "    }\n",
              "\n",
              "    [theme=dark] .colab-df-convert {\n",
              "      background-color: #3B4455;\n",
              "      fill: #D2E3FC;\n",
              "    }\n",
              "\n",
              "    [theme=dark] .colab-df-convert:hover {\n",
              "      background-color: #434B5C;\n",
              "      box-shadow: 0px 1px 3px 1px rgba(0, 0, 0, 0.15);\n",
              "      filter: drop-shadow(0px 1px 2px rgba(0, 0, 0, 0.3));\n",
              "      fill: #FFFFFF;\n",
              "    }\n",
              "  </style>\n",
              "\n",
              "    <script>\n",
              "      const buttonEl =\n",
              "        document.querySelector('#df-65ef0b24-b47f-4c49-b417-732be1157777 button.colab-df-convert');\n",
              "      buttonEl.style.display =\n",
              "        google.colab.kernel.accessAllowed ? 'block' : 'none';\n",
              "\n",
              "      async function convertToInteractive(key) {\n",
              "        const element = document.querySelector('#df-65ef0b24-b47f-4c49-b417-732be1157777');\n",
              "        const dataTable =\n",
              "          await google.colab.kernel.invokeFunction('convertToInteractive',\n",
              "                                                    [key], {});\n",
              "        if (!dataTable) return;\n",
              "\n",
              "        const docLinkHtml = 'Like what you see? Visit the ' +\n",
              "          '<a target=\"_blank\" href=https://colab.research.google.com/notebooks/data_table.ipynb>data table notebook</a>'\n",
              "          + ' to learn more about interactive tables.';\n",
              "        element.innerHTML = '';\n",
              "        dataTable['output_type'] = 'display_data';\n",
              "        await google.colab.output.renderOutput(dataTable, element);\n",
              "        const docLink = document.createElement('div');\n",
              "        docLink.innerHTML = docLinkHtml;\n",
              "        element.appendChild(docLink);\n",
              "      }\n",
              "    </script>\n",
              "  </div>\n",
              "\n",
              "\n",
              "<div id=\"df-122af80a-9175-4b48-b2b6-f0d20020252c\">\n",
              "  <button class=\"colab-df-quickchart\" onclick=\"quickchart('df-122af80a-9175-4b48-b2b6-f0d20020252c')\"\n",
              "            title=\"Suggest charts.\"\n",
              "            style=\"display:none;\">\n",
              "\n",
              "<svg xmlns=\"http://www.w3.org/2000/svg\" height=\"24px\"viewBox=\"0 0 24 24\"\n",
              "     width=\"24px\">\n",
              "    <g>\n",
              "        <path d=\"M19 3H5c-1.1 0-2 .9-2 2v14c0 1.1.9 2 2 2h14c1.1 0 2-.9 2-2V5c0-1.1-.9-2-2-2zM9 17H7v-7h2v7zm4 0h-2V7h2v10zm4 0h-2v-4h2v4z\"/>\n",
              "    </g>\n",
              "</svg>\n",
              "  </button>\n",
              "\n",
              "<style>\n",
              "  .colab-df-quickchart {\n",
              "      --bg-color: #E8F0FE;\n",
              "      --fill-color: #1967D2;\n",
              "      --hover-bg-color: #E2EBFA;\n",
              "      --hover-fill-color: #174EA6;\n",
              "      --disabled-fill-color: #AAA;\n",
              "      --disabled-bg-color: #DDD;\n",
              "  }\n",
              "\n",
              "  [theme=dark] .colab-df-quickchart {\n",
              "      --bg-color: #3B4455;\n",
              "      --fill-color: #D2E3FC;\n",
              "      --hover-bg-color: #434B5C;\n",
              "      --hover-fill-color: #FFFFFF;\n",
              "      --disabled-bg-color: #3B4455;\n",
              "      --disabled-fill-color: #666;\n",
              "  }\n",
              "\n",
              "  .colab-df-quickchart {\n",
              "    background-color: var(--bg-color);\n",
              "    border: none;\n",
              "    border-radius: 50%;\n",
              "    cursor: pointer;\n",
              "    display: none;\n",
              "    fill: var(--fill-color);\n",
              "    height: 32px;\n",
              "    padding: 0;\n",
              "    width: 32px;\n",
              "  }\n",
              "\n",
              "  .colab-df-quickchart:hover {\n",
              "    background-color: var(--hover-bg-color);\n",
              "    box-shadow: 0 1px 2px rgba(60, 64, 67, 0.3), 0 1px 3px 1px rgba(60, 64, 67, 0.15);\n",
              "    fill: var(--button-hover-fill-color);\n",
              "  }\n",
              "\n",
              "  .colab-df-quickchart-complete:disabled,\n",
              "  .colab-df-quickchart-complete:disabled:hover {\n",
              "    background-color: var(--disabled-bg-color);\n",
              "    fill: var(--disabled-fill-color);\n",
              "    box-shadow: none;\n",
              "  }\n",
              "\n",
              "  .colab-df-spinner {\n",
              "    border: 2px solid var(--fill-color);\n",
              "    border-color: transparent;\n",
              "    border-bottom-color: var(--fill-color);\n",
              "    animation:\n",
              "      spin 1s steps(1) infinite;\n",
              "  }\n",
              "\n",
              "  @keyframes spin {\n",
              "    0% {\n",
              "      border-color: transparent;\n",
              "      border-bottom-color: var(--fill-color);\n",
              "      border-left-color: var(--fill-color);\n",
              "    }\n",
              "    20% {\n",
              "      border-color: transparent;\n",
              "      border-left-color: var(--fill-color);\n",
              "      border-top-color: var(--fill-color);\n",
              "    }\n",
              "    30% {\n",
              "      border-color: transparent;\n",
              "      border-left-color: var(--fill-color);\n",
              "      border-top-color: var(--fill-color);\n",
              "      border-right-color: var(--fill-color);\n",
              "    }\n",
              "    40% {\n",
              "      border-color: transparent;\n",
              "      border-right-color: var(--fill-color);\n",
              "      border-top-color: var(--fill-color);\n",
              "    }\n",
              "    60% {\n",
              "      border-color: transparent;\n",
              "      border-right-color: var(--fill-color);\n",
              "    }\n",
              "    80% {\n",
              "      border-color: transparent;\n",
              "      border-right-color: var(--fill-color);\n",
              "      border-bottom-color: var(--fill-color);\n",
              "    }\n",
              "    90% {\n",
              "      border-color: transparent;\n",
              "      border-bottom-color: var(--fill-color);\n",
              "    }\n",
              "  }\n",
              "</style>\n",
              "\n",
              "  <script>\n",
              "    async function quickchart(key) {\n",
              "      const quickchartButtonEl =\n",
              "        document.querySelector('#' + key + ' button');\n",
              "      quickchartButtonEl.disabled = true;  // To prevent multiple clicks.\n",
              "      quickchartButtonEl.classList.add('colab-df-spinner');\n",
              "      try {\n",
              "        const charts = await google.colab.kernel.invokeFunction(\n",
              "            'suggestCharts', [key], {});\n",
              "      } catch (error) {\n",
              "        console.error('Error during call to suggestCharts:', error);\n",
              "      }\n",
              "      quickchartButtonEl.classList.remove('colab-df-spinner');\n",
              "      quickchartButtonEl.classList.add('colab-df-quickchart-complete');\n",
              "    }\n",
              "    (() => {\n",
              "      let quickchartButtonEl =\n",
              "        document.querySelector('#df-122af80a-9175-4b48-b2b6-f0d20020252c button');\n",
              "      quickchartButtonEl.style.display =\n",
              "        google.colab.kernel.accessAllowed ? 'block' : 'none';\n",
              "    })();\n",
              "  </script>\n",
              "</div>\n",
              "    </div>\n",
              "  </div>\n"
            ]
          },
          "metadata": {},
          "execution_count": 674
        }
      ]
    },
    {
      "cell_type": "markdown",
      "source": [
        "**Ordinal Encoding:**"
      ],
      "metadata": {
        "id": "Y-2hgwsB8sl8"
      },
      "id": "Y-2hgwsB8sl8"
    },
    {
      "cell_type": "code",
      "source": [
        "df['day_of_week'].value_counts()"
      ],
      "metadata": {
        "colab": {
          "base_uri": "https://localhost:8080/"
        },
        "id": "PykkAYB78sVt",
        "outputId": "d0f39547-3eb9-4d06-fc60-b23f45bf34db"
      },
      "id": "PykkAYB78sVt",
      "execution_count": 675,
      "outputs": [
        {
          "output_type": "execute_result",
          "data": {
            "text/plain": [
              "thu    8618\n",
              "mon    8512\n",
              "wed    8134\n",
              "tue    8086\n",
              "fri    7826\n",
              "Name: day_of_week, dtype: int64"
            ]
          },
          "metadata": {},
          "execution_count": 675
        }
      ]
    },
    {
      "cell_type": "code",
      "source": [
        "df.head()\n"
      ],
      "metadata": {
        "colab": {
          "base_uri": "https://localhost:8080/",
          "height": 273
        },
        "id": "-hs6_vud9KJX",
        "outputId": "98a25a0d-b0ba-4f48-a8ab-02c594d48550"
      },
      "id": "-hs6_vud9KJX",
      "execution_count": 676,
      "outputs": [
        {
          "output_type": "execute_result",
          "data": {
            "text/plain": [
              "   age        job  marital    education creditDefault houseLoan personalLoan  \\\n",
              "0   56  housemaid  married     basic.4y            no        no           no   \n",
              "1   57   services  married  high.school       unknown        no           no   \n",
              "2   37   services  married  high.school            no       yes           no   \n",
              "3   40     admin.  married     basic.6y            no        no           no   \n",
              "4   56   services  married  high.school            no        no          yes   \n",
              "\n",
              "  contactType contactMonth day_of_week  ...  pdays  previous     poutcome  \\\n",
              "0   telephone          may         mon  ...    999         0  nonexistent   \n",
              "1   telephone          may         mon  ...    999         0  nonexistent   \n",
              "2   telephone          may         mon  ...    999         0  nonexistent   \n",
              "3   telephone          may         mon  ...    999         0  nonexistent   \n",
              "4   telephone          may         mon  ...    999         0  nonexistent   \n",
              "\n",
              "   emp_var_rate cons_price_idx  con_confi_idx  euribor3m  noOfEmployee  \\\n",
              "0           1.1         93.994          -36.4      4.857        5191.0   \n",
              "1           1.1         93.994          -36.4      4.857        5191.0   \n",
              "2           1.1         93.994          -36.4      4.857        5191.0   \n",
              "3           1.1         93.994          -36.4      4.857        5191.0   \n",
              "4           1.1         93.994          -36.4      4.857        5191.0   \n",
              "\n",
              "   target  Age bracket  \n",
              "0       0        46-60  \n",
              "1       0        46-60  \n",
              "2       0        36-45  \n",
              "3       0        36-45  \n",
              "4       0        46-60  \n",
              "\n",
              "[5 rows x 22 columns]"
            ],
            "text/html": [
              "\n",
              "  <div id=\"df-afc8cfb1-12dc-463f-8656-a4cb1e7debda\" class=\"colab-df-container\">\n",
              "    <div>\n",
              "<style scoped>\n",
              "    .dataframe tbody tr th:only-of-type {\n",
              "        vertical-align: middle;\n",
              "    }\n",
              "\n",
              "    .dataframe tbody tr th {\n",
              "        vertical-align: top;\n",
              "    }\n",
              "\n",
              "    .dataframe thead th {\n",
              "        text-align: right;\n",
              "    }\n",
              "</style>\n",
              "<table border=\"1\" class=\"dataframe\">\n",
              "  <thead>\n",
              "    <tr style=\"text-align: right;\">\n",
              "      <th></th>\n",
              "      <th>age</th>\n",
              "      <th>job</th>\n",
              "      <th>marital</th>\n",
              "      <th>education</th>\n",
              "      <th>creditDefault</th>\n",
              "      <th>houseLoan</th>\n",
              "      <th>personalLoan</th>\n",
              "      <th>contactType</th>\n",
              "      <th>contactMonth</th>\n",
              "      <th>day_of_week</th>\n",
              "      <th>...</th>\n",
              "      <th>pdays</th>\n",
              "      <th>previous</th>\n",
              "      <th>poutcome</th>\n",
              "      <th>emp_var_rate</th>\n",
              "      <th>cons_price_idx</th>\n",
              "      <th>con_confi_idx</th>\n",
              "      <th>euribor3m</th>\n",
              "      <th>noOfEmployee</th>\n",
              "      <th>target</th>\n",
              "      <th>Age bracket</th>\n",
              "    </tr>\n",
              "  </thead>\n",
              "  <tbody>\n",
              "    <tr>\n",
              "      <th>0</th>\n",
              "      <td>56</td>\n",
              "      <td>housemaid</td>\n",
              "      <td>married</td>\n",
              "      <td>basic.4y</td>\n",
              "      <td>no</td>\n",
              "      <td>no</td>\n",
              "      <td>no</td>\n",
              "      <td>telephone</td>\n",
              "      <td>may</td>\n",
              "      <td>mon</td>\n",
              "      <td>...</td>\n",
              "      <td>999</td>\n",
              "      <td>0</td>\n",
              "      <td>nonexistent</td>\n",
              "      <td>1.1</td>\n",
              "      <td>93.994</td>\n",
              "      <td>-36.4</td>\n",
              "      <td>4.857</td>\n",
              "      <td>5191.0</td>\n",
              "      <td>0</td>\n",
              "      <td>46-60</td>\n",
              "    </tr>\n",
              "    <tr>\n",
              "      <th>1</th>\n",
              "      <td>57</td>\n",
              "      <td>services</td>\n",
              "      <td>married</td>\n",
              "      <td>high.school</td>\n",
              "      <td>unknown</td>\n",
              "      <td>no</td>\n",
              "      <td>no</td>\n",
              "      <td>telephone</td>\n",
              "      <td>may</td>\n",
              "      <td>mon</td>\n",
              "      <td>...</td>\n",
              "      <td>999</td>\n",
              "      <td>0</td>\n",
              "      <td>nonexistent</td>\n",
              "      <td>1.1</td>\n",
              "      <td>93.994</td>\n",
              "      <td>-36.4</td>\n",
              "      <td>4.857</td>\n",
              "      <td>5191.0</td>\n",
              "      <td>0</td>\n",
              "      <td>46-60</td>\n",
              "    </tr>\n",
              "    <tr>\n",
              "      <th>2</th>\n",
              "      <td>37</td>\n",
              "      <td>services</td>\n",
              "      <td>married</td>\n",
              "      <td>high.school</td>\n",
              "      <td>no</td>\n",
              "      <td>yes</td>\n",
              "      <td>no</td>\n",
              "      <td>telephone</td>\n",
              "      <td>may</td>\n",
              "      <td>mon</td>\n",
              "      <td>...</td>\n",
              "      <td>999</td>\n",
              "      <td>0</td>\n",
              "      <td>nonexistent</td>\n",
              "      <td>1.1</td>\n",
              "      <td>93.994</td>\n",
              "      <td>-36.4</td>\n",
              "      <td>4.857</td>\n",
              "      <td>5191.0</td>\n",
              "      <td>0</td>\n",
              "      <td>36-45</td>\n",
              "    </tr>\n",
              "    <tr>\n",
              "      <th>3</th>\n",
              "      <td>40</td>\n",
              "      <td>admin.</td>\n",
              "      <td>married</td>\n",
              "      <td>basic.6y</td>\n",
              "      <td>no</td>\n",
              "      <td>no</td>\n",
              "      <td>no</td>\n",
              "      <td>telephone</td>\n",
              "      <td>may</td>\n",
              "      <td>mon</td>\n",
              "      <td>...</td>\n",
              "      <td>999</td>\n",
              "      <td>0</td>\n",
              "      <td>nonexistent</td>\n",
              "      <td>1.1</td>\n",
              "      <td>93.994</td>\n",
              "      <td>-36.4</td>\n",
              "      <td>4.857</td>\n",
              "      <td>5191.0</td>\n",
              "      <td>0</td>\n",
              "      <td>36-45</td>\n",
              "    </tr>\n",
              "    <tr>\n",
              "      <th>4</th>\n",
              "      <td>56</td>\n",
              "      <td>services</td>\n",
              "      <td>married</td>\n",
              "      <td>high.school</td>\n",
              "      <td>no</td>\n",
              "      <td>no</td>\n",
              "      <td>yes</td>\n",
              "      <td>telephone</td>\n",
              "      <td>may</td>\n",
              "      <td>mon</td>\n",
              "      <td>...</td>\n",
              "      <td>999</td>\n",
              "      <td>0</td>\n",
              "      <td>nonexistent</td>\n",
              "      <td>1.1</td>\n",
              "      <td>93.994</td>\n",
              "      <td>-36.4</td>\n",
              "      <td>4.857</td>\n",
              "      <td>5191.0</td>\n",
              "      <td>0</td>\n",
              "      <td>46-60</td>\n",
              "    </tr>\n",
              "  </tbody>\n",
              "</table>\n",
              "<p>5 rows × 22 columns</p>\n",
              "</div>\n",
              "    <div class=\"colab-df-buttons\">\n",
              "\n",
              "  <div class=\"colab-df-container\">\n",
              "    <button class=\"colab-df-convert\" onclick=\"convertToInteractive('df-afc8cfb1-12dc-463f-8656-a4cb1e7debda')\"\n",
              "            title=\"Convert this dataframe to an interactive table.\"\n",
              "            style=\"display:none;\">\n",
              "\n",
              "  <svg xmlns=\"http://www.w3.org/2000/svg\" height=\"24px\" viewBox=\"0 -960 960 960\">\n",
              "    <path d=\"M120-120v-720h720v720H120Zm60-500h600v-160H180v160Zm220 220h160v-160H400v160Zm0 220h160v-160H400v160ZM180-400h160v-160H180v160Zm440 0h160v-160H620v160ZM180-180h160v-160H180v160Zm440 0h160v-160H620v160Z\"/>\n",
              "  </svg>\n",
              "    </button>\n",
              "\n",
              "  <style>\n",
              "    .colab-df-container {\n",
              "      display:flex;\n",
              "      gap: 12px;\n",
              "    }\n",
              "\n",
              "    .colab-df-convert {\n",
              "      background-color: #E8F0FE;\n",
              "      border: none;\n",
              "      border-radius: 50%;\n",
              "      cursor: pointer;\n",
              "      display: none;\n",
              "      fill: #1967D2;\n",
              "      height: 32px;\n",
              "      padding: 0 0 0 0;\n",
              "      width: 32px;\n",
              "    }\n",
              "\n",
              "    .colab-df-convert:hover {\n",
              "      background-color: #E2EBFA;\n",
              "      box-shadow: 0px 1px 2px rgba(60, 64, 67, 0.3), 0px 1px 3px 1px rgba(60, 64, 67, 0.15);\n",
              "      fill: #174EA6;\n",
              "    }\n",
              "\n",
              "    .colab-df-buttons div {\n",
              "      margin-bottom: 4px;\n",
              "    }\n",
              "\n",
              "    [theme=dark] .colab-df-convert {\n",
              "      background-color: #3B4455;\n",
              "      fill: #D2E3FC;\n",
              "    }\n",
              "\n",
              "    [theme=dark] .colab-df-convert:hover {\n",
              "      background-color: #434B5C;\n",
              "      box-shadow: 0px 1px 3px 1px rgba(0, 0, 0, 0.15);\n",
              "      filter: drop-shadow(0px 1px 2px rgba(0, 0, 0, 0.3));\n",
              "      fill: #FFFFFF;\n",
              "    }\n",
              "  </style>\n",
              "\n",
              "    <script>\n",
              "      const buttonEl =\n",
              "        document.querySelector('#df-afc8cfb1-12dc-463f-8656-a4cb1e7debda button.colab-df-convert');\n",
              "      buttonEl.style.display =\n",
              "        google.colab.kernel.accessAllowed ? 'block' : 'none';\n",
              "\n",
              "      async function convertToInteractive(key) {\n",
              "        const element = document.querySelector('#df-afc8cfb1-12dc-463f-8656-a4cb1e7debda');\n",
              "        const dataTable =\n",
              "          await google.colab.kernel.invokeFunction('convertToInteractive',\n",
              "                                                    [key], {});\n",
              "        if (!dataTable) return;\n",
              "\n",
              "        const docLinkHtml = 'Like what you see? Visit the ' +\n",
              "          '<a target=\"_blank\" href=https://colab.research.google.com/notebooks/data_table.ipynb>data table notebook</a>'\n",
              "          + ' to learn more about interactive tables.';\n",
              "        element.innerHTML = '';\n",
              "        dataTable['output_type'] = 'display_data';\n",
              "        await google.colab.output.renderOutput(dataTable, element);\n",
              "        const docLink = document.createElement('div');\n",
              "        docLink.innerHTML = docLinkHtml;\n",
              "        element.appendChild(docLink);\n",
              "      }\n",
              "    </script>\n",
              "  </div>\n",
              "\n",
              "\n",
              "<div id=\"df-458858fe-4c5b-42da-b1f4-e3c396aa8922\">\n",
              "  <button class=\"colab-df-quickchart\" onclick=\"quickchart('df-458858fe-4c5b-42da-b1f4-e3c396aa8922')\"\n",
              "            title=\"Suggest charts.\"\n",
              "            style=\"display:none;\">\n",
              "\n",
              "<svg xmlns=\"http://www.w3.org/2000/svg\" height=\"24px\"viewBox=\"0 0 24 24\"\n",
              "     width=\"24px\">\n",
              "    <g>\n",
              "        <path d=\"M19 3H5c-1.1 0-2 .9-2 2v14c0 1.1.9 2 2 2h14c1.1 0 2-.9 2-2V5c0-1.1-.9-2-2-2zM9 17H7v-7h2v7zm4 0h-2V7h2v10zm4 0h-2v-4h2v4z\"/>\n",
              "    </g>\n",
              "</svg>\n",
              "  </button>\n",
              "\n",
              "<style>\n",
              "  .colab-df-quickchart {\n",
              "      --bg-color: #E8F0FE;\n",
              "      --fill-color: #1967D2;\n",
              "      --hover-bg-color: #E2EBFA;\n",
              "      --hover-fill-color: #174EA6;\n",
              "      --disabled-fill-color: #AAA;\n",
              "      --disabled-bg-color: #DDD;\n",
              "  }\n",
              "\n",
              "  [theme=dark] .colab-df-quickchart {\n",
              "      --bg-color: #3B4455;\n",
              "      --fill-color: #D2E3FC;\n",
              "      --hover-bg-color: #434B5C;\n",
              "      --hover-fill-color: #FFFFFF;\n",
              "      --disabled-bg-color: #3B4455;\n",
              "      --disabled-fill-color: #666;\n",
              "  }\n",
              "\n",
              "  .colab-df-quickchart {\n",
              "    background-color: var(--bg-color);\n",
              "    border: none;\n",
              "    border-radius: 50%;\n",
              "    cursor: pointer;\n",
              "    display: none;\n",
              "    fill: var(--fill-color);\n",
              "    height: 32px;\n",
              "    padding: 0;\n",
              "    width: 32px;\n",
              "  }\n",
              "\n",
              "  .colab-df-quickchart:hover {\n",
              "    background-color: var(--hover-bg-color);\n",
              "    box-shadow: 0 1px 2px rgba(60, 64, 67, 0.3), 0 1px 3px 1px rgba(60, 64, 67, 0.15);\n",
              "    fill: var(--button-hover-fill-color);\n",
              "  }\n",
              "\n",
              "  .colab-df-quickchart-complete:disabled,\n",
              "  .colab-df-quickchart-complete:disabled:hover {\n",
              "    background-color: var(--disabled-bg-color);\n",
              "    fill: var(--disabled-fill-color);\n",
              "    box-shadow: none;\n",
              "  }\n",
              "\n",
              "  .colab-df-spinner {\n",
              "    border: 2px solid var(--fill-color);\n",
              "    border-color: transparent;\n",
              "    border-bottom-color: var(--fill-color);\n",
              "    animation:\n",
              "      spin 1s steps(1) infinite;\n",
              "  }\n",
              "\n",
              "  @keyframes spin {\n",
              "    0% {\n",
              "      border-color: transparent;\n",
              "      border-bottom-color: var(--fill-color);\n",
              "      border-left-color: var(--fill-color);\n",
              "    }\n",
              "    20% {\n",
              "      border-color: transparent;\n",
              "      border-left-color: var(--fill-color);\n",
              "      border-top-color: var(--fill-color);\n",
              "    }\n",
              "    30% {\n",
              "      border-color: transparent;\n",
              "      border-left-color: var(--fill-color);\n",
              "      border-top-color: var(--fill-color);\n",
              "      border-right-color: var(--fill-color);\n",
              "    }\n",
              "    40% {\n",
              "      border-color: transparent;\n",
              "      border-right-color: var(--fill-color);\n",
              "      border-top-color: var(--fill-color);\n",
              "    }\n",
              "    60% {\n",
              "      border-color: transparent;\n",
              "      border-right-color: var(--fill-color);\n",
              "    }\n",
              "    80% {\n",
              "      border-color: transparent;\n",
              "      border-right-color: var(--fill-color);\n",
              "      border-bottom-color: var(--fill-color);\n",
              "    }\n",
              "    90% {\n",
              "      border-color: transparent;\n",
              "      border-bottom-color: var(--fill-color);\n",
              "    }\n",
              "  }\n",
              "</style>\n",
              "\n",
              "  <script>\n",
              "    async function quickchart(key) {\n",
              "      const quickchartButtonEl =\n",
              "        document.querySelector('#' + key + ' button');\n",
              "      quickchartButtonEl.disabled = true;  // To prevent multiple clicks.\n",
              "      quickchartButtonEl.classList.add('colab-df-spinner');\n",
              "      try {\n",
              "        const charts = await google.colab.kernel.invokeFunction(\n",
              "            'suggestCharts', [key], {});\n",
              "      } catch (error) {\n",
              "        console.error('Error during call to suggestCharts:', error);\n",
              "      }\n",
              "      quickchartButtonEl.classList.remove('colab-df-spinner');\n",
              "      quickchartButtonEl.classList.add('colab-df-quickchart-complete');\n",
              "    }\n",
              "    (() => {\n",
              "      let quickchartButtonEl =\n",
              "        document.querySelector('#df-458858fe-4c5b-42da-b1f4-e3c396aa8922 button');\n",
              "      quickchartButtonEl.style.display =\n",
              "        google.colab.kernel.accessAllowed ? 'block' : 'none';\n",
              "    })();\n",
              "  </script>\n",
              "</div>\n",
              "    </div>\n",
              "  </div>\n"
            ]
          },
          "metadata": {},
          "execution_count": 676
        }
      ]
    },
    {
      "cell_type": "code",
      "source": [
        "df['Age bracket'] = df['Age bracket'].astype(object)"
      ],
      "metadata": {
        "id": "xGbOJGto9RDV"
      },
      "id": "xGbOJGto9RDV",
      "execution_count": 677,
      "outputs": []
    },
    {
      "cell_type": "code",
      "source": [
        "df.columns\n",
        "drop_columns.append('age')"
      ],
      "metadata": {
        "id": "5wxpfbns9SLB"
      },
      "id": "5wxpfbns9SLB",
      "execution_count": 678,
      "outputs": []
    },
    {
      "cell_type": "code",
      "source": [
        "df.info()"
      ],
      "metadata": {
        "colab": {
          "base_uri": "https://localhost:8080/"
        },
        "id": "HCghq2um-trD",
        "outputId": "2d90f29b-e120-4e5b-91b6-c154d0ff26bd"
      },
      "id": "HCghq2um-trD",
      "execution_count": 679,
      "outputs": [
        {
          "output_type": "stream",
          "name": "stdout",
          "text": [
            "<class 'pandas.core.frame.DataFrame'>\n",
            "Int64Index: 41176 entries, 0 to 41187\n",
            "Data columns (total 22 columns):\n",
            " #   Column          Non-Null Count  Dtype  \n",
            "---  ------          --------------  -----  \n",
            " 0   age             41176 non-null  int64  \n",
            " 1   job             41176 non-null  object \n",
            " 2   marital         41176 non-null  object \n",
            " 3   education       41176 non-null  object \n",
            " 4   creditDefault   41176 non-null  object \n",
            " 5   houseLoan       41176 non-null  object \n",
            " 6   personalLoan    41176 non-null  object \n",
            " 7   contactType     41176 non-null  object \n",
            " 8   contactMonth    41176 non-null  object \n",
            " 9   day_of_week     41176 non-null  object \n",
            " 10  duration        41176 non-null  int64  \n",
            " 11  campaign        41176 non-null  int64  \n",
            " 12  pdays           41176 non-null  int64  \n",
            " 13  previous        41176 non-null  int64  \n",
            " 14  poutcome        41176 non-null  object \n",
            " 15  emp_var_rate    41176 non-null  float64\n",
            " 16  cons_price_idx  41176 non-null  float64\n",
            " 17  con_confi_idx   41176 non-null  float64\n",
            " 18  euribor3m       41176 non-null  float64\n",
            " 19  noOfEmployee    41176 non-null  float64\n",
            " 20  target          41176 non-null  int64  \n",
            " 21  Age bracket     41166 non-null  object \n",
            "dtypes: float64(5), int64(6), object(11)\n",
            "memory usage: 7.2+ MB\n"
          ]
        }
      ]
    },
    {
      "cell_type": "code",
      "source": [
        "cat_columns = df.drop(['target','personalLoan','houseLoan'], axis = 1).select_dtypes(include=object).columns\n",
        "cat_columns"
      ],
      "metadata": {
        "colab": {
          "base_uri": "https://localhost:8080/"
        },
        "id": "m6aK7oT09YDu",
        "outputId": "d55f6288-c30a-4b83-a57d-379963017cf5"
      },
      "id": "m6aK7oT09YDu",
      "execution_count": 680,
      "outputs": [
        {
          "output_type": "execute_result",
          "data": {
            "text/plain": [
              "Index(['job', 'marital', 'education', 'creditDefault', 'contactType',\n",
              "       'contactMonth', 'day_of_week', 'poutcome', 'Age bracket'],\n",
              "      dtype='object')"
            ]
          },
          "metadata": {},
          "execution_count": 680
        }
      ]
    },
    {
      "cell_type": "code",
      "source": [
        "df = df.drop(drop_columns, axis=1)"
      ],
      "metadata": {
        "id": "Z3oXgTZz-mmz"
      },
      "id": "Z3oXgTZz-mmz",
      "execution_count": 681,
      "outputs": []
    },
    {
      "cell_type": "code",
      "source": [
        "data = pd.get_dummies(df.drop('target', axis = 1), columns= cat_columns)"
      ],
      "metadata": {
        "id": "QQUZkjtK9eYt"
      },
      "id": "QQUZkjtK9eYt",
      "execution_count": 682,
      "outputs": []
    },
    {
      "cell_type": "code",
      "source": [
        "data.shape"
      ],
      "metadata": {
        "colab": {
          "base_uri": "https://localhost:8080/"
        },
        "id": "Vf7A0olU9hwi",
        "outputId": "1bba86cc-e24d-4abb-d1bb-4bd343cf6302"
      },
      "id": "Vf7A0olU9hwi",
      "execution_count": 683,
      "outputs": [
        {
          "output_type": "execute_result",
          "data": {
            "text/plain": [
              "(41176, 59)"
            ]
          },
          "metadata": {},
          "execution_count": 683
        }
      ]
    },
    {
      "cell_type": "markdown",
      "source": [
        "Overall, Drop the columns on the basis of analysis and test houseLoan', 'personalLoan', 'emp_var_rate', 'euribor3m', 'age'. There are around 59 total Features."
      ],
      "metadata": {
        "id": "ePNVtjlFAdUd"
      },
      "id": "ePNVtjlFAdUd"
    },
    {
      "cell_type": "markdown",
      "source": [
        "# Visualizations"
      ],
      "metadata": {
        "id": "GPmc-G1uAXir"
      },
      "id": "GPmc-G1uAXir"
    },
    {
      "cell_type": "code",
      "source": [
        "fig, axes = plt.subplots(nrows=1, ncols=3, figsize=(12, 8))\n",
        "day_counts = df['day_of_week'].value_counts()\n",
        "type_counts = df['contactType'].value_counts()\n",
        "mon_counts = df['contactMonth'].value_counts()\n",
        "axes[0].pie(mon_counts, labels=mon_counts.index, autopct='%1.2f%%')\n",
        "axes[0].set_title('Last Contacted Month')\n",
        "axes[1].pie(type_counts, labels=type_counts.index, autopct='%1.2f%%')\n",
        "axes[1].set_title('Contact Type')\n",
        "axes[2].pie(day_counts, labels=day_counts.index, autopct='%1.2f%%')\n",
        "axes[2].set_title('Last contacted days')\n",
        "plt.tight_layout()\n",
        "plt.show()"
      ],
      "metadata": {
        "colab": {
          "base_uri": "https://localhost:8080/",
          "height": 370
        },
        "id": "ej8U1sOhAsuZ",
        "outputId": "68844116-0247-4685-c038-e2ea86687223"
      },
      "id": "ej8U1sOhAsuZ",
      "execution_count": 684,
      "outputs": [
        {
          "output_type": "display_data",
          "data": {
            "text/plain": [
              "<Figure size 1200x800 with 3 Axes>"
            ],
            "image/png": "[encoded data removed]"
          },
          "metadata": {}
        }
      ]
    },
    {
      "cell_type": "code",
      "source": [
        "edu_counts = df['education'].value_counts()\n",
        "categories = edu_counts.index.tolist()\n",
        "plt.figure(figsize=(16, 4))\n",
        "positive_counts = df.loc[df['target'] == 1, 'education'].value_counts()\n",
        "positive_values = [positive_counts.get(category, 0) for category in categories]\n",
        "negative_counts = df.loc[df['target'] == 0, 'education'].value_counts()\n",
        "negative_values = [negative_counts.get(category, 0) for category in categories]\n",
        "plt.bar(categories, positive_values, label='Yes')\n",
        "plt.bar(categories, negative_values, bottom=positive_values)\n",
        "plt.title('Distribution based on Education')\n",
        "plt.show()"
      ],
      "metadata": {
        "colab": {
          "base_uri": "https://localhost:8080/",
          "height": 306
        },
        "id": "CCVHAQVjBpzG",
        "outputId": "2047c793-f684-4901-ff5a-4ca592385c7b"
      },
      "id": "CCVHAQVjBpzG",
      "execution_count": 685,
      "outputs": [
        {
          "output_type": "display_data",
          "data": {
            "text/plain": [
              "<Figure size 1600x400 with 1 Axes>"
            ],
            "image/png": "[encoded data removed]"
          },
          "metadata": {}
        }
      ]
    },
    {
      "cell_type": "code",
      "source": [
        "marital_counts = df['marital'].value_counts()\n",
        "categories = marital_counts.index.tolist()\n",
        "plt.figure(figsize=(12, 4))\n",
        "positive_counts = df.loc[df['target'] == 1, 'marital'].value_counts()\n",
        "positive_values = [positive_counts.get(category, 0) for category in categories]\n",
        "negative_counts = df.loc[df['target'] == 0, 'marital'].value_counts()\n",
        "negative_values = [negative_counts.get(category, 0) for category in categories]\n",
        "plt.bar(categories, positive_values, label='Yes')\n",
        "plt.bar(categories, negative_values, bottom=positive_values, label='No')\n",
        "plt.title('Distribution based on Education')\n",
        "plt.legend()\n",
        "plt.show()"
      ],
      "metadata": {
        "colab": {
          "base_uri": "https://localhost:8080/",
          "height": 391
        },
        "id": "fyxkuEizCX_H",
        "outputId": "1137ef8d-4684-4002-e061-c05e8651b2ad"
      },
      "id": "fyxkuEizCX_H",
      "execution_count": 686,
      "outputs": [
        {
          "output_type": "display_data",
          "data": {
            "text/plain": [
              "<Figure size 1200x400 with 1 Axes>"
            ],
            "image/png": "[encoded data removed]"
          },
          "metadata": {}
        }
      ]
    },
    {
      "cell_type": "code",
      "source": [
        "job_counts = df['job'].value_counts()\n",
        "categories = job_counts.index.tolist()\n",
        "plt.figure(figsize=(16, 4))\n",
        "positive_counts = df.loc[df['target'] == 1, 'job'].value_counts()\n",
        "positive_values = [positive_counts.get(category, 0) for category in categories]\n",
        "negative_counts = df.loc[df['target'] == 0, 'job'].value_counts()\n",
        "negative_values = [negative_counts.get(category, 0) for category in categories]\n",
        "plt.bar(categories, positive_values, label='Yes')\n",
        "plt.bar(categories, negative_values, bottom=positive_values, label='No')\n",
        "plt.title('Distribution based on Education')\n",
        "plt.show()"
      ],
      "metadata": {
        "colab": {
          "base_uri": "https://localhost:8080/",
          "height": 306
        },
        "id": "wq60lVoKCgih",
        "outputId": "b114a229-e484-4388-9e08-432a4d6e2ab9"
      },
      "id": "wq60lVoKCgih",
      "execution_count": 687,
      "outputs": [
        {
          "output_type": "display_data",
          "data": {
            "text/plain": [
              "<Figure size 1600x400 with 1 Axes>"
            ],
            "image/png": "[encoded data removed]"
          },
          "metadata": {}
        }
      ]
    },
    {
      "cell_type": "markdown",
      "source": [
        "Numerical Features"
      ],
      "metadata": {
        "id": "8uncREpOCuLa"
      },
      "id": "8uncREpOCuLa"
    },
    {
      "cell_type": "code",
      "source": [
        "fig, axes = plt.subplots(nrows=1, ncols=3, figsize=(12, 4))\n",
        "c1 = df.loc[(df['previous'] > 2), 'target'].value_counts()\n",
        "c2 = df.loc[(df['previous'] <= 2) & (df['previous'] > 1), 'target'].value_counts()\n",
        "c3 = df.loc[(df['previous'] <= 1) & (df['previous'] >= 0), 'target'].value_counts()\n",
        "axes[0].pie(c1, labels=c1.index, autopct='%1.2f%%')\n",
        "axes[0].set_title('Contacts before Campaign >2')\n",
        "axes[1].pie(c2, labels=c2.index, autopct='%1.2f%%')\n",
        "axes[1].set_title('Contacts before Campaign <=2 ,>1')\n",
        "axes[2].pie(c3, labels=c3.index, autopct='%1.2f%%')\n",
        "axes[2].set_title('Contacts before Campaign <=1')\n",
        "plt.tight_layout()\n",
        "plt.show()"
      ],
      "metadata": {
        "colab": {
          "base_uri": "https://localhost:8080/",
          "height": 369
        },
        "id": "5dIBUVluCtp8",
        "outputId": "8e14394d-0bc8-47bf-bcbc-77bfd696a3c3"
      },
      "id": "5dIBUVluCtp8",
      "execution_count": 688,
      "outputs": [
        {
          "output_type": "display_data",
          "data": {
            "text/plain": [
              "<Figure size 1200x400 with 3 Axes>"
            ],
            "image/png": "[encoded data removed]"
          },
          "metadata": {}
        }
      ]
    },
    {
      "cell_type": "code",
      "source": [
        "fig, axes = plt.subplots(nrows=1, ncols=2, figsize=(8, 4))\n",
        "d1 = df.loc[(df['pdays'] == 1) , 'target'].value_counts()\n",
        "d2 = df.loc[(df['pdays'] != 1) , 'target'].value_counts()\n",
        "axes[0].pie(d1, labels=d1.index, autopct='%1.2f%%')\n",
        "axes[0].set_title('Client previously not contacted')\n",
        "axes[1].pie(d2, labels=d2.index, autopct='%1.2f%%')\n",
        "axes[1].set_title('Client previously contacted')\n",
        "plt.tight_layout()\n",
        "plt.show()"
      ],
      "metadata": {
        "colab": {
          "base_uri": "https://localhost:8080/",
          "height": 420
        },
        "id": "Ngxas8PFC2Ju",
        "outputId": "4f7d75b4-c04a-4580-c882-ff163d333320"
      },
      "id": "Ngxas8PFC2Ju",
      "execution_count": 689,
      "outputs": [
        {
          "output_type": "display_data",
          "data": {
            "text/plain": [
              "<Figure size 800x400 with 2 Axes>"
            ],
            "image/png": "[encoded data removed]"
          },
          "metadata": {}
        }
      ]
    },
    {
      "cell_type": "markdown",
      "source": [
        "**Imbalanced dataset**"
      ],
      "metadata": {
        "id": "LvVMq5ikEOcZ"
      },
      "id": "LvVMq5ikEOcZ"
    },
    {
      "cell_type": "code",
      "execution_count": 690,
      "id": "4fcd548d",
      "metadata": {
        "colab": {
          "base_uri": "https://localhost:8080/",
          "height": 391
        },
        "id": "4fcd548d",
        "outputId": "b04326fc-c7a5-4a16-fa66-9869630adc3d"
      },
      "outputs": [
        {
          "output_type": "display_data",
          "data": {
            "text/plain": [
              "<Figure size 800x400 with 2 Axes>"
            ],
            "image/png": "[encoded data removed]"
          },
          "metadata": {}
        }
      ],
      "source": [
        "fig, axes = plt.subplots(nrows=1, ncols=2, figsize=(8, 4))\n",
        "label_counts = df['target'].value_counts()\n",
        "out_counts = df['poutcome'].value_counts()\n",
        "axes[0].pie(out_counts, labels=out_counts.index, autopct='%1.2f%%')\n",
        "axes[0].set_title('Previous Campaign Outcomes')\n",
        "axes[1].pie(label_counts, labels=label_counts.index, autopct='%1.2f%%')\n",
        "axes[1].set_title('This Year outcomes')\n",
        "plt.tight_layout()\n",
        "plt.show()"
      ]
    },
    {
      "cell_type": "markdown",
      "source": [
        "# Model Implementation"
      ],
      "metadata": {
        "id": "7V-AWCVHDImG"
      },
      "id": "7V-AWCVHDImG"
    },
    {
      "cell_type": "markdown",
      "source": [
        "Split data into 80% and 20%."
      ],
      "metadata": {
        "id": "8MMoVJf4DTCT"
      },
      "id": "8MMoVJf4DTCT"
    },
    {
      "cell_type": "code",
      "source": [
        "features = data\n",
        "target = df['target']"
      ],
      "metadata": {
        "id": "BvlkvvfwDnYg"
      },
      "id": "BvlkvvfwDnYg",
      "execution_count": 691,
      "outputs": []
    },
    {
      "cell_type": "code",
      "execution_count": 692,
      "id": "8ba46e56",
      "metadata": {
        "colab": {
          "base_uri": "https://localhost:8080/"
        },
        "id": "8ba46e56",
        "outputId": "6c18488e-5599-4208-be4a-0415964110cc"
      },
      "outputs": [
        {
          "output_type": "stream",
          "name": "stdout",
          "text": [
            "(32940, 59) (8236, 59) (32940,) (8236,)\n"
          ]
        }
      ],
      "source": [
        "x_train,x_test,y_train,y_test = train_test_split(features,target, test_size=0.2, random_state=42)\n",
        "print(x_train.shape,x_test.shape,y_train.shape,y_test.shape)"
      ]
    },
    {
      "cell_type": "markdown",
      "id": "9YmhISB0tfI1",
      "metadata": {
        "id": "9YmhISB0tfI1"
      },
      "source": [
        "i). Linear Models : Logistic Regression"
      ]
    },
    {
      "cell_type": "code",
      "execution_count": 693,
      "id": "fDeSodsutl2b",
      "metadata": {
        "id": "fDeSodsutl2b"
      },
      "outputs": [],
      "source": [
        "from sklearn.linear_model import LogisticRegression\n",
        "from sklearn.metrics import accuracy_score, classification_report, confusion_matrix"
      ]
    },
    {
      "cell_type": "code",
      "execution_count": 694,
      "id": "_MCy2H3k0x5x",
      "metadata": {
        "id": "_MCy2H3k0x5x"
      },
      "outputs": [],
      "source": [
        "class_counts = y_train.value_counts()\n",
        "y_train = np.array(y_train)\n",
        "y_train = np.ravel(y_train)"
      ]
    },
    {
      "cell_type": "code",
      "execution_count": 695,
      "id": "c6ktHkFnuNIG",
      "metadata": {
        "colab": {
          "base_uri": "https://localhost:8080/",
          "height": 75
        },
        "id": "c6ktHkFnuNIG",
        "outputId": "20a50538-46b4-4df9-9891-6f6df68c9b5d"
      },
      "outputs": [
        {
          "output_type": "execute_result",
          "data": {
            "text/plain": [
              "LogisticRegression(class_weight='balanced', max_iter=1500, random_state=42)"
            ],
            "text/html": [
              "<style>#sk-container-id-4 {color: black;background-color: white;}#sk-container-id-4 pre{padding: 0;}#sk-container-id-4 div.sk-toggleable {background-color: white;}#sk-container-id-4 label.sk-toggleable__label {cursor: pointer;display: block;width: 100%;margin-bottom: 0;padding: 0.3em;box-sizing: border-box;text-align: center;}#sk-container-id-4 label.sk-toggleable__label-arrow:before {content: \"▸\";float: left;margin-right: 0.25em;color: #696969;}#sk-container-id-4 label.sk-toggleable__label-arrow:hover:before {color: black;}#sk-container-id-4 div.sk-estimator:hover label.sk-toggleable__label-arrow:before {color: black;}#sk-container-id-4 div.sk-toggleable__content {max-height: 0;max-width: 0;overflow: hidden;text-align: left;background-color: #f0f8ff;}#sk-container-id-4 div.sk-toggleable__content pre {margin: 0.2em;color: black;border-radius: 0.25em;background-color: #f0f8ff;}#sk-container-id-4 input.sk-toggleable__control:checked~div.sk-toggleable__content {max-height: 200px;max-width: 100%;overflow: auto;}#sk-container-id-4 input.sk-toggleable__control:checked~label.sk-toggleable__label-arrow:before {content: \"▾\";}#sk-container-id-4 div.sk-estimator input.sk-toggleable__control:checked~label.sk-toggleable__label {background-color: #d4ebff;}#sk-container-id-4 div.sk-label input.sk-toggleable__control:checked~label.sk-toggleable__label {background-color: #d4ebff;}#sk-container-id-4 input.sk-hidden--visually {border: 0;clip: rect(1px 1px 1px 1px);clip: rect(1px, 1px, 1px, 1px);height: 1px;margin: -1px;overflow: hidden;padding: 0;position: absolute;width: 1px;}#sk-container-id-4 div.sk-estimator {font-family: monospace;background-color: #f0f8ff;border: 1px dotted black;border-radius: 0.25em;box-sizing: border-box;margin-bottom: 0.5em;}#sk-container-id-4 div.sk-estimator:hover {background-color: #d4ebff;}#sk-container-id-4 div.sk-parallel-item::after {content: \"\";width: 100%;border-bottom: 1px solid gray;flex-grow: 1;}#sk-container-id-4 div.sk-label:hover label.sk-toggleable__label {background-color: #d4ebff;}#sk-container-id-4 div.sk-serial::before {content: \"\";position: absolute;border-left: 1px solid gray;box-sizing: border-box;top: 0;bottom: 0;left: 50%;z-index: 0;}#sk-container-id-4 div.sk-serial {display: flex;flex-direction: column;align-items: center;background-color: white;padding-right: 0.2em;padding-left: 0.2em;position: relative;}#sk-container-id-4 div.sk-item {position: relative;z-index: 1;}#sk-container-id-4 div.sk-parallel {display: flex;align-items: stretch;justify-content: center;background-color: white;position: relative;}#sk-container-id-4 div.sk-item::before, #sk-container-id-4 div.sk-parallel-item::before {content: \"\";position: absolute;border-left: 1px solid gray;box-sizing: border-box;top: 0;bottom: 0;left: 50%;z-index: -1;}#sk-container-id-4 div.sk-parallel-item {display: flex;flex-direction: column;z-index: 1;position: relative;background-color: white;}#sk-container-id-4 div.sk-parallel-item:first-child::after {align-self: flex-end;width: 50%;}#sk-container-id-4 div.sk-parallel-item:last-child::after {align-self: flex-start;width: 50%;}#sk-container-id-4 div.sk-parallel-item:only-child::after {width: 0;}#sk-container-id-4 div.sk-dashed-wrapped {border: 1px dashed gray;margin: 0 0.4em 0.5em 0.4em;box-sizing: border-box;padding-bottom: 0.4em;background-color: white;}#sk-container-id-4 div.sk-label label {font-family: monospace;font-weight: bold;display: inline-block;line-height: 1.2em;}#sk-container-id-4 div.sk-label-container {text-align: center;}#sk-container-id-4 div.sk-container {/* jupyter's `normalize.less` sets `[hidden] { display: none; }` but bootstrap.min.css set `[hidden] { display: none !important; }` so we also need the `!important` here to be able to override the default hidden behavior on the sphinx rendered scikit-learn.org. See: https://github.com/scikit-learn/scikit-learn/issues/21755 */display: inline-block !important;position: relative;}#sk-container-id-4 div.sk-text-repr-fallback {display: none;}</style><div id=\"sk-container-id-4\" class=\"sk-top-container\"><div class=\"sk-text-repr-fallback\"><pre>LogisticRegression(class_weight=&#x27;balanced&#x27;, max_iter=1500, random_state=42)</pre><b>In a Jupyter environment, please rerun this cell to show the HTML representation or trust the notebook. <br />On GitHub, the HTML representation is unable to render, please try loading this page with nbviewer.org.</b></div><div class=\"sk-container\" hidden><div class=\"sk-item\"><div class=\"sk-estimator sk-toggleable\"><input class=\"sk-toggleable__control sk-hidden--visually\" id=\"sk-estimator-id-4\" type=\"checkbox\" checked><label for=\"sk-estimator-id-4\" class=\"sk-toggleable__label sk-toggleable__label-arrow\">LogisticRegression</label><div class=\"sk-toggleable__content\"><pre>LogisticRegression(class_weight=&#x27;balanced&#x27;, max_iter=1500, random_state=42)</pre></div></div></div></div></div>"
            ]
          },
          "metadata": {},
          "execution_count": 695
        }
      ],
      "source": [
        "\n",
        "class_weights = {0: (round(1 - ((class_counts[0] / (class_counts[1]*10))),2)), 1: round((class_counts[0] / (class_counts[1]*10)),2)}\n",
        "model = LogisticRegression(random_state=42, class_weight=class_weights, max_iter=1500)\n",
        "model.fit(x_train, y_train)\n",
        "\n",
        "model_1 = LogisticRegression(random_state=42, class_weight='balanced', max_iter=1500)\n",
        "model_1.fit(x_train,y_train)"
      ]
    },
    {
      "cell_type": "markdown",
      "id": "gN3cqmZB15hn",
      "metadata": {
        "id": "gN3cqmZB15hn"
      },
      "source": [
        "Type 1 :  **Linear model with assigned class weights**\n",
        "- High Accuracy and Low Recall\n",
        "- Helps in predicting true positive and true negative but might miss some positive cases."
      ]
    },
    {
      "cell_type": "code",
      "execution_count": 696,
      "id": "itIB823ZuCz1",
      "metadata": {
        "colab": {
          "base_uri": "https://localhost:8080/"
        },
        "id": "itIB823ZuCz1",
        "outputId": "402c7bcd-916c-4a90-c7be-6b80b26d0238"
      },
      "outputs": [
        {
          "output_type": "stream",
          "name": "stdout",
          "text": [
            "Iteration 1 - Recall: 0.7096\n",
            "Iteration 2 - Recall: 0.7096\n",
            "Iteration 3 - Recall: 0.7096\n",
            "Iteration 4 - Recall: 0.7096\n",
            "Iteration 5 - Recall: 0.7096\n",
            "Final Model - Accuracy: 0.889752306945119\n",
            "\n",
            "Final Model - Classification Report:\n",
            "               precision    recall  f1-score   support\n",
            "\n",
            "           0       0.96      0.91      0.94      7265\n",
            "           1       0.52      0.71      0.60       971\n",
            "\n",
            "    accuracy                           0.89      8236\n",
            "   macro avg       0.74      0.81      0.77      8236\n",
            "weighted avg       0.91      0.89      0.90      8236\n",
            "\n",
            "\n",
            "Final Model - Confusion Matrix:\n",
            " [[6639  626]\n",
            " [ 282  689]]\n"
          ]
        }
      ],
      "source": [
        "num_iterations = 5\n",
        "for iteration in range(num_iterations):\n",
        "    model.fit(x_train, y_train)\n",
        "\n",
        "    # Make predictions on the test data\n",
        "    y_pred = model.predict(x_test)\n",
        "\n",
        "    # Calculate and store recall score\n",
        "    recall = recall_score(y_test, y_pred)\n",
        "    print(f\"Iteration {iteration + 1} - Recall: {recall:.4f}\")\n",
        "\n",
        "# Evaluate the final model\n",
        "y_pred = model.predict(x_test)\n",
        "accuracy = accuracy_score(y_test, y_pred)\n",
        "report = classification_report(y_test, y_pred)\n",
        "confusion = confusion_matrix(y_test, y_pred)\n",
        "print(\"Final Model - Accuracy:\", accuracy)\n",
        "print(\"\\nFinal Model - Classification Report:\\n\", report)\n",
        "print(\"\\nFinal Model - Confusion Matrix:\\n\", confusion)\n"
      ]
    },
    {
      "cell_type": "markdown",
      "id": "04bg42-I2KLL",
      "metadata": {
        "id": "04bg42-I2KLL"
      },
      "source": [
        "**Type 2: Linear model with assign weights**\n",
        "- Low Accuracy and High recall (comparing accuracy and recall with the above model)\n",
        "- Helps in predicting more false positive values which reduces the chances of losing even a vital subscriber."
      ]
    },
    {
      "cell_type": "code",
      "execution_count": 697,
      "id": "5DuhHIBI2yHS",
      "metadata": {
        "colab": {
          "base_uri": "https://localhost:8080/"
        },
        "id": "5DuhHIBI2yHS",
        "outputId": "319b5e1d-e778-4af0-848c-d119253ba72e"
      },
      "outputs": [
        {
          "output_type": "stream",
          "name": "stdout",
          "text": [
            "Iteration 1 - Recall: 0.8486\n",
            "Iteration 2 - Recall: 0.8486\n",
            "Iteration 3 - Recall: 0.8486\n",
            "Iteration 4 - Recall: 0.8486\n",
            "Iteration 5 - Recall: 0.8486\n",
            "Final Model - Accuracy: 0.861947547353084\n",
            "\n",
            "Final Model - Classification Report:\n",
            "               precision    recall  f1-score   support\n",
            "\n",
            "           0       0.98      0.86      0.92      7265\n",
            "           1       0.45      0.85      0.59       971\n",
            "\n",
            "    accuracy                           0.86      8236\n",
            "   macro avg       0.72      0.86      0.75      8236\n",
            "weighted avg       0.92      0.86      0.88      8236\n",
            "\n",
            "\n",
            "Final Model - Confusion Matrix:\n",
            " [[6275  990]\n",
            " [ 147  824]]\n"
          ]
        }
      ],
      "source": [
        "num_iterations = 5\n",
        "\n",
        "\n",
        "for iteration in range(num_iterations):\n",
        "    model_1.fit(x_train, y_train)\n",
        "\n",
        "    # Make predictions on the test data\n",
        "    y_pred_1 = model_1.predict(x_test)\n",
        "\n",
        "    # Calculate and store recall score\n",
        "    recall_1 = recall_score(y_test, y_pred_1)\n",
        "\n",
        "    print(f\"Iteration {iteration + 1} - Recall: {recall_1:.4f}\")\n",
        "\n",
        "# Evaluate the final model\n",
        "y_pred_1 = model_1.predict(x_test)\n",
        "accuracy_1 = accuracy_score(y_test, y_pred_1)\n",
        "report_1 = classification_report(y_test, y_pred_1)\n",
        "confusion_1 = confusion_matrix(y_test, y_pred_1)\n",
        "\n",
        "print(\"Final Model - Accuracy:\", accuracy_1)\n",
        "print(\"\\nFinal Model - Classification Report:\\n\", report_1)\n",
        "print(\"\\nFinal Model - Confusion Matrix:\\n\", confusion_1)"
      ]
    },
    {
      "cell_type": "markdown",
      "id": "jj6VAgDP28ru",
      "metadata": {
        "id": "jj6VAgDP28ru"
      },
      "source": [
        "**ii). Ensemble Model : Random Forest**"
      ]
    },
    {
      "cell_type": "code",
      "execution_count": 698,
      "id": "89bDifbP57BT",
      "metadata": {
        "id": "89bDifbP57BT"
      },
      "outputs": [],
      "source": [
        "from sklearn.ensemble import RandomForestClassifier"
      ]
    },
    {
      "cell_type": "markdown",
      "id": "-FRkbgiJCT0R",
      "metadata": {
        "id": "-FRkbgiJCT0R"
      },
      "source": [
        "Type 1: RF assigned without class weigths\n",
        "- Performs poorly compare to Linear model.\n",
        "- Accuracy is higher compare to linear model\n",
        "- Overall, F1 score and recall values are poor and no prediction is feasible."
      ]
    },
    {
      "cell_type": "code",
      "execution_count": 699,
      "id": "6xPn1MTZ6UnF",
      "metadata": {
        "colab": {
          "base_uri": "https://localhost:8080/"
        },
        "id": "6xPn1MTZ6UnF",
        "outputId": "65952636-2b0a-4926-d188-a6e708dd7fb7"
      },
      "outputs": [
        {
          "output_type": "stream",
          "name": "stdout",
          "text": [
            "Cross-Validation Accuracy Scores: [0.91105039 0.9108986  0.91029144 0.90892532 0.90680024]\n",
            "Mean CV Accuracy: 0.9095931997571342\n",
            "Cross-Validation Recall Scores: [0.41746248 0.42837653 0.41553134 0.40463215 0.41416894]\n",
            "Mean CV Recall: 0.41603428856069086\n",
            "\n",
            "Final Model - Classification Report:\n",
            "               precision    recall  f1-score   support\n",
            "\n",
            "           0       0.93      0.97      0.95      7265\n",
            "           1       0.64      0.41      0.50       971\n",
            "\n",
            "    accuracy                           0.90      8236\n",
            "   macro avg       0.78      0.69      0.72      8236\n",
            "weighted avg       0.89      0.90      0.89      8236\n",
            "\n",
            "\n",
            "Final Model - Confusion Matrix:\n",
            " [[7038  227]\n",
            " [ 569  402]]\n"
          ]
        }
      ],
      "source": [
        "rf_classifier = RandomForestClassifier(n_estimators=100, random_state=42, class_weight='balanced')\n",
        "rf_classifier.fit(x_train, y_train)\n",
        "y_pred_rf = rf_classifier.predict(x_test)\n",
        "report_rf = classification_report(y_test, y_pred_rf)\n",
        "confusion_rf = confusion_matrix(y_test, y_pred_rf)\n",
        "\n",
        "#cross validation\n",
        "scoring_metrics = ['accuracy', 'recall', 'f1']\n",
        "cv_results = cross_validate(rf_classifier, x_train, y_train, cv=5, scoring=scoring_metrics)\n",
        "accuracy_scores = cv_results['test_accuracy']\n",
        "recall_scores = cv_results['test_recall']\n",
        "recall_scores= cv_results['test_recall']\n",
        "F1_scores= cv_results['test_f1']\n",
        "\n",
        "\n",
        "print(\"Cross-Validation Accuracy Scores:\", accuracy_scores)\n",
        "print(\"Mean CV Accuracy:\", np.mean(accuracy_scores))\n",
        "print(\"Cross-Validation Recall Scores:\", recall_scores)\n",
        "print(\"Mean CV Recall:\", np.mean(recall_scores))\n",
        "print(\"\\nFinal Model - Classification Report:\\n\", report_rf)\n",
        "print(\"\\nFinal Model - Confusion Matrix:\\n\", confusion_rf)"
      ]
    },
    {
      "cell_type": "markdown",
      "id": "ce84cb86",
      "metadata": {
        "id": "ce84cb86"
      },
      "source": [
        "Type 2: RF assigned with class weigths\n",
        "- Performs poorly compare to Linear model.\n",
        "- Accuracy is higher compare to linear model\n",
        "- Overall, F1 score and recall values are slightly increasing but it has been worst while comparing with linear model"
      ]
    },
    {
      "cell_type": "code",
      "execution_count": 700,
      "id": "9jB0mUrk-FUK",
      "metadata": {
        "colab": {
          "base_uri": "https://localhost:8080/"
        },
        "id": "9jB0mUrk-FUK",
        "outputId": "1a322c43-8e6d-43e4-c47c-28878522f8b3"
      },
      "outputs": [
        {
          "output_type": "stream",
          "name": "stdout",
          "text": [
            "Cross-Validation Accuracy Scores: [0.91393443 0.90938069 0.91256831 0.90862174 0.90846995]\n",
            "Mean CV Accuracy: 0.910595021250759\n",
            "Cross-Validation Recall Scores: [0.45429741 0.44611187 0.44959128 0.44822888 0.44414169]\n",
            "Mean CV Recall: 0.44847422596102016\n",
            "\n",
            "Final Model - Classification Report:\n",
            "               precision    recall  f1-score   support\n",
            "\n",
            "           0       0.93      0.97      0.95      7265\n",
            "           1       0.64      0.41      0.50       971\n",
            "\n",
            "    accuracy                           0.90      8236\n",
            "   macro avg       0.78      0.69      0.72      8236\n",
            "weighted avg       0.89      0.90      0.89      8236\n",
            "\n",
            "\n",
            "Final Model - Confusion Matrix:\n",
            " [[7038  227]\n",
            " [ 569  402]]\n"
          ]
        }
      ],
      "source": [
        "class_weights = {0: 1, 1: 2}\n",
        "rf_classifier_1 = RandomForestClassifier(n_estimators=100, random_state=42, class_weight=class_weights)\n",
        "rf_classifier_1.fit(x_train, y_train)\n",
        "y_pred_rf_1 = rf_classifier.predict(x_test)\n",
        "report_rf_1 = classification_report(y_test, y_pred_rf_1)\n",
        "confusion_rf_1 = confusion_matrix(y_test, y_pred_rf_1)\n",
        "\n",
        "#cross validation\n",
        "scoring_metrics = ['accuracy', 'recall', 'f1']\n",
        "cv_results_1 = cross_validate(rf_classifier_1, x_train, y_train, cv=5, scoring=scoring_metrics)\n",
        "accuracy_scores_1 = cv_results_1['test_accuracy']\n",
        "recall_scores_1 = cv_results_1['test_recall']\n",
        "F1_scores_1 = cv_results_1['test_f1']\n",
        "\n",
        "print(\"Cross-Validation Accuracy Scores:\", accuracy_scores_1)\n",
        "print(\"Mean CV Accuracy:\", np.mean(accuracy_scores_1))\n",
        "print(\"Cross-Validation Recall Scores:\", recall_scores_1)\n",
        "print(\"Mean CV Recall:\", np.mean(recall_scores_1))\n",
        "print(\"\\nFinal Model - Classification Report:\\n\", report_rf_1)\n",
        "print(\"\\nFinal Model - Confusion Matrix:\\n\", confusion_rf_1)\n"
      ]
    },
    {
      "cell_type": "markdown",
      "id": "PiODoYVzDMrL",
      "metadata": {
        "id": "PiODoYVzDMrL"
      },
      "source": [
        "**iii). Stacking : Light gradient boosting**"
      ]
    },
    {
      "cell_type": "code",
      "execution_count": 701,
      "id": "wL0G4aQbEmYB",
      "metadata": {
        "id": "wL0G4aQbEmYB"
      },
      "outputs": [],
      "source": [
        "import lightgbm as lgb\n",
        "from sklearn.model_selection import StratifiedKFold\n",
        "from imblearn.under_sampling import RandomUnderSampler\n",
        "from lightgbm import LGBMClassifier"
      ]
    },
    {
      "cell_type": "code",
      "execution_count": 702,
      "id": "ZL3pElSl-P66",
      "metadata": {
        "colab": {
          "base_uri": "https://localhost:8080/"
        },
        "id": "ZL3pElSl-P66",
        "outputId": "90233d0c-edae-4792-ece4-e3479720c554"
      },
      "outputs": [
        {
          "output_type": "stream",
          "name": "stdout",
          "text": [
            "[LightGBM] [Warning] Found whitespace in feature_names, replace with underlines\n",
            "[LightGBM] [Info] Number of positive: 4639, number of negative: 9278\n",
            "[LightGBM] [Warning] Auto-choosing row-wise multi-threading, the overhead of testing was 0.001304 seconds.\n",
            "You can set `force_row_wise=true` to remove the overhead.\n",
            "And if memory is not enough, you can set `force_col_wise=true`.\n",
            "[LightGBM] [Info] Total Bins 482\n",
            "[LightGBM] [Info] Number of data points in the train set: 13917, number of used features: 57\n",
            "[LightGBM] [Info] [binary:BoostFromScore]: pavg=0.333333 -> initscore=-0.693147\n",
            "[LightGBM] [Info] Start training from score -0.693147\n",
            "Confusion Matrix:\n",
            "[[6550  758]\n",
            " [  75  853]]\n",
            "\n",
            "Classification Report:\n",
            "              precision    recall  f1-score   support\n",
            "\n",
            "           0       0.99      0.90      0.94      7308\n",
            "           1       0.53      0.92      0.67       928\n",
            "\n",
            "    accuracy                           0.90      8236\n",
            "   macro avg       0.76      0.91      0.81      8236\n",
            "weighted avg       0.94      0.90      0.91      8236\n",
            "\n",
            "[LightGBM] [Warning] Found whitespace in feature_names, replace with underlines\n",
            "[LightGBM] [Info] Number of positive: 4639, number of negative: 9278\n",
            "[LightGBM] [Warning] Auto-choosing row-wise multi-threading, the overhead of testing was 0.001674 seconds.\n",
            "You can set `force_row_wise=true` to remove the overhead.\n",
            "And if memory is not enough, you can set `force_col_wise=true`.\n",
            "[LightGBM] [Info] Total Bins 482\n",
            "[LightGBM] [Info] Number of data points in the train set: 13917, number of used features: 57\n",
            "[LightGBM] [Info] [binary:BoostFromScore]: pavg=0.333333 -> initscore=-0.693147\n",
            "[LightGBM] [Info] Start training from score -0.693147\n",
            "Confusion Matrix:\n",
            "[[6474  834]\n",
            " [  86  841]]\n",
            "\n",
            "Classification Report:\n",
            "              precision    recall  f1-score   support\n",
            "\n",
            "           0       0.99      0.89      0.93      7308\n",
            "           1       0.50      0.91      0.65       927\n",
            "\n",
            "    accuracy                           0.89      8235\n",
            "   macro avg       0.74      0.90      0.79      8235\n",
            "weighted avg       0.93      0.89      0.90      8235\n",
            "\n",
            "[LightGBM] [Warning] Found whitespace in feature_names, replace with underlines\n",
            "[LightGBM] [Info] Number of positive: 4639, number of negative: 9278\n",
            "[LightGBM] [Warning] Auto-choosing row-wise multi-threading, the overhead of testing was 0.001315 seconds.\n",
            "You can set `force_row_wise=true` to remove the overhead.\n",
            "And if memory is not enough, you can set `force_col_wise=true`.\n",
            "[LightGBM] [Info] Total Bins 482\n",
            "[LightGBM] [Info] Number of data points in the train set: 13917, number of used features: 57\n",
            "[LightGBM] [Info] [binary:BoostFromScore]: pavg=0.333333 -> initscore=-0.693147\n",
            "[LightGBM] [Info] Start training from score -0.693147\n",
            "Confusion Matrix:\n",
            "[[6532  775]\n",
            " [  62  866]]\n",
            "\n",
            "Classification Report:\n",
            "              precision    recall  f1-score   support\n",
            "\n",
            "           0       0.99      0.89      0.94      7307\n",
            "           1       0.53      0.93      0.67       928\n",
            "\n",
            "    accuracy                           0.90      8235\n",
            "   macro avg       0.76      0.91      0.81      8235\n",
            "weighted avg       0.94      0.90      0.91      8235\n",
            "\n",
            "[LightGBM] [Warning] Found whitespace in feature_names, replace with underlines\n",
            "[LightGBM] [Info] Number of positive: 4639, number of negative: 9278\n",
            "[LightGBM] [Warning] Auto-choosing row-wise multi-threading, the overhead of testing was 0.001230 seconds.\n",
            "You can set `force_row_wise=true` to remove the overhead.\n",
            "And if memory is not enough, you can set `force_col_wise=true`.\n",
            "[LightGBM] [Info] Total Bins 482\n",
            "[LightGBM] [Info] Number of data points in the train set: 13917, number of used features: 57\n",
            "[LightGBM] [Info] [binary:BoostFromScore]: pavg=0.333333 -> initscore=-0.693147\n",
            "[LightGBM] [Info] Start training from score -0.693147\n",
            "Confusion Matrix:\n",
            "[[6475  832]\n",
            " [  80  848]]\n",
            "\n",
            "Classification Report:\n",
            "              precision    recall  f1-score   support\n",
            "\n",
            "           0       0.99      0.89      0.93      7307\n",
            "           1       0.50      0.91      0.65       928\n",
            "\n",
            "    accuracy                           0.89      8235\n",
            "   macro avg       0.75      0.90      0.79      8235\n",
            "weighted avg       0.93      0.89      0.90      8235\n",
            "\n",
            "[LightGBM] [Warning] Found whitespace in feature_names, replace with underlines\n",
            "[LightGBM] [Info] Number of positive: 4639, number of negative: 9278\n",
            "[LightGBM] [Warning] Auto-choosing row-wise multi-threading, the overhead of testing was 0.002313 seconds.\n",
            "You can set `force_row_wise=true` to remove the overhead.\n",
            "And if memory is not enough, you can set `force_col_wise=true`.\n",
            "[LightGBM] [Info] Total Bins 482\n",
            "[LightGBM] [Info] Number of data points in the train set: 13917, number of used features: 57\n",
            "[LightGBM] [Info] [binary:BoostFromScore]: pavg=0.333333 -> initscore=-0.693147\n",
            "[LightGBM] [Info] Start training from score -0.693147\n",
            "Confusion Matrix:\n",
            "[[6519  788]\n",
            " [  79  849]]\n",
            "\n",
            "Classification Report:\n",
            "              precision    recall  f1-score   support\n",
            "\n",
            "           0       0.99      0.89      0.94      7307\n",
            "           1       0.52      0.91      0.66       928\n",
            "\n",
            "    accuracy                           0.89      8235\n",
            "   macro avg       0.75      0.90      0.80      8235\n",
            "weighted avg       0.94      0.89      0.91      8235\n",
            "\n",
            "Mean Accuracy: 0.8938943810887855\n",
            "Mean recall score: 0.91765241974482\n"
          ]
        }
      ],
      "source": [
        "model1 = LGBMClassifier()\n",
        "undersampling_ratio = 0.5\n",
        "k = 5\n",
        "kf = StratifiedKFold(n_splits=k, shuffle=True, random_state=42)\n",
        "scores = []\n",
        "recalls = []\n",
        "precisions = []\n",
        "labels = np.ravel(target)\n",
        "\n",
        "for train_index, test_index in kf.split(features, labels):\n",
        "    X_train, X_test = features.iloc[train_index], features.iloc[test_index]\n",
        "    y_train, y_test = labels[train_index], labels[test_index]\n",
        "    undersampler = RandomUnderSampler(sampling_strategy=undersampling_ratio, random_state=42)\n",
        "    X_resampled, y_resampled = undersampler.fit_resample(features, labels)\n",
        "    model1.fit(X_resampled, y_resampled)\n",
        "    y_pred = model1.predict(X_test)\n",
        "    accuracy = accuracy_score(y_test, y_pred)\n",
        "    recalle = recall_score(y_test,y_pred)\n",
        "    precisione = precision_score(y_test, y_pred)\n",
        "    scores.append(accuracy)\n",
        "    recalls.append(recalle)\n",
        "    precisions.append(precisione)\n",
        "\n",
        "    confusion = confusion_matrix(y_test, y_pred)\n",
        "    classification = classification_report(y_test, y_pred)\n",
        "\n",
        "    print(\"Confusion Matrix:\")\n",
        "    print(confusion)\n",
        "    print(\"\\nClassification Report:\")\n",
        "    print(classification)\n",
        "\n",
        "mean_accuracy = np.mean(scores)\n",
        "print(\"Mean Accuracy:\", mean_accuracy)\n",
        "recall_score = np.mean(recalls)\n",
        "print(\"Mean recall score:\", recall_score)\n",
        "precision_score = np.mean(precisions)"
      ]
    },
    {
      "cell_type": "markdown",
      "id": "DcsdC7j3Gfoj",
      "metadata": {
        "id": "DcsdC7j3Gfoj"
      },
      "source": [
        "The Linear Model and Light Gradient model are more relient and predictive for analyzing people behaviour on whether they will subscibe for the product or not?\n",
        "However, LGB is more effecient and effective in recommending the behaviour of people as the accuracy and Recall has been high and significant."
      ]
    }
  ],
  "metadata": {
    "colab": {
      "provenance": []
    },
    "kernelspec": {
      "display_name": "Python 3 (ipykernel)",
      "language": "python",
      "name": "python3"
    },
    "language_info": {
      "codemirror_mode": {
        "name": "ipython",
        "version": 3
      },
      "file_extension": ".py",
      "mimetype": "text/x-python",
      "name": "python",
      "nbconvert_exporter": "python",
      "pygments_lexer": "ipython3",
      "version": "3.9.17"
    }
  },
  "nbformat": 4,
  "nbformat_minor": 5
}